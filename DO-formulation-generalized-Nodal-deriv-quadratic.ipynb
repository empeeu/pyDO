{
 "metadata": {
  "name": "",
  "signature": "sha256:3a30e9fe335a79c42784d1c01fad7a2df8287284e1461a4eec5957c85cea1920"
 },
 "nbformat": 3,
 "nbformat_minor": 0,
 "worksheets": [
  {
   "cells": [
    {
     "cell_type": "heading",
     "level": 1,
     "metadata": {},
     "source": [
      "Generalized Dynamical Orthogonality"
     ]
    },
    {
     "cell_type": "code",
     "collapsed": false,
     "input": [
      "%pylab inline\n",
      "pylab.rcParams['figure.figsize'] = 18, 8"
     ],
     "language": "python",
     "metadata": {},
     "outputs": [
      {
       "output_type": "stream",
       "stream": "stdout",
       "text": [
        "Populating the interactive namespace from numpy and matplotlib\n"
       ]
      }
     ],
     "prompt_number": 1
    },
    {
     "cell_type": "markdown",
     "metadata": {},
     "source": [
      "Very well, so the goal now is to efficiently calculate the following for an arbitrary function:\n",
      "\\begin{align}\n",
      "E\\left[\\mathcal L(\\mathbf u) \\gamma_i\\right] \\\\\n",
      "\\left<\\mathcal L(\\mathbf u), \\mathbf u_j \\right> \n",
      "\\end{align}\n",
      "Substitute the decomposition\n",
      "\\begin{align}\n",
      "E\\left[\\mathcal L(\\mathbf u_k \\gamma_k) \\gamma_i\\right]\\\\\n",
      "\\left<\\mathcal L(\\mathbf u_k \\gamma_k), \\mathbf u_j \\right> \n",
      "\\end{align}"
     ]
    },
    {
     "cell_type": "markdown",
     "metadata": {},
     "source": [
      "\\begin{align}\n",
      "E\\left[\\mathcal L\\left(\\mathbf u_k(\\mathbf x, t) \\gamma_k(t ; \\xi)\\right) \\gamma_i(t; \\xi)\\right] \n",
      "&\\approx E\\left[\\mathcal L\\left(\\mathbf u_k(\\mathbf x, t)\\right) \\gamma_k(t ; \\xi) \\gamma_i(t; \\xi)\\right] \\\\\n",
      "&= \\mathcal L\\left(\\mathbf u_k(\\mathbf x, t)\\right) E\\left[\\gamma_k(t ; \\xi) \\gamma_i(t; \\xi)\\right] \\\\\n",
      "&= \\mathcal L\\left(\\mathbf u_k \\right) E\\left[\\gamma_k \\gamma_i\\right] \n",
      "\\end{align}"
     ]
    },
    {
     "cell_type": "markdown",
     "metadata": {},
     "source": [
      "Similarly:\n",
      "\\begin{align}\n",
      "\\left<\\mathcal L(\\mathbf u_k \\gamma_k), \\mathbf u_j \\right>  \n",
      "&\\approx \\left<\\mathcal L(\\mathbf u_k) \\gamma_k, \\mathbf u_j \\right>  \\\\\n",
      "&= \\left<\\mathcal L(\\mathbf u_k), \\mathbf u_j \\right> \\gamma_k\n",
      "\\end{align}"
     ]
    },
    {
     "cell_type": "heading",
     "level": 2,
     "metadata": {},
     "source": [
      "A new Derivation"
     ]
    },
    {
     "cell_type": "markdown",
     "metadata": {},
     "source": [
      "So, we're just giving up on doing this completely in general. Instead, let's try to solve exactly for a case where $\\mathcal L(u) = au + bu^2$"
     ]
    },
    {
     "cell_type": "markdown",
     "metadata": {},
     "source": [
      "Discretely, we want:\n",
      "$$ \\mathcal L(\\mathbf U_M \\cdot \\gamma_M^T) \\cdot \\gamma_M = \\mathcal L(\\mathbf U_N) \\cdot \\gamma_N^T \\cdot \\gamma_M$$\n",
      "\n",
      "and\n",
      "\n",
      "$$ \\mathcal L(\\mathbf U_M \\cdot \\gamma_M^T)^T \\cdot \\mathbf U_M = (\\mathcal L(\\mathbf U_N) \\cdot \\gamma_N^T)^T \\cdot \\mathbf U_M $$"
     ]
    },
    {
     "cell_type": "markdown",
     "metadata": {},
     "source": [
      "or simply (a stronger requirement)\n",
      "$$\n",
      "\\mathcal L(\\mathbf U_M \\cdot \\gamma_M^T) = \\mathcal L(\\mathbf U_N) \\cdot \\gamma_N^T\n",
      "$$\n"
     ]
    },
    {
     "cell_type": "markdown",
     "metadata": {},
     "source": [
      "Also, recall that:\n",
      "$$\n",
      "\\mathbf U_N = \\mathbf U_M \\cdot \\mathbf A^T \\\\\n",
      "\\gamma_N = \\gamma M \\cdot \\mathbf A^{-1}\n",
      "$$"
     ]
    },
    {
     "cell_type": "markdown",
     "metadata": {},
     "source": [
      "So, let $\\mathcal L(\\mathbf U) = a\\mathbf U + b\\mathbf U^2$, and solving for $\\mathbf A$. First I'll go back to Einstein notation"
     ]
    },
    {
     "cell_type": "markdown",
     "metadata": {},
     "source": [
      "$$a(U^M_{mj} \\gamma^M_{nj}) + b U^M_{m^*i} \\gamma^M_{n^*i} U^M_{m^*j} \\gamma^M_{n^*j} = (a \\mathbf U_{mj} + b \\mathbf U_{mj}^2) \\gamma^N_{nj}$$"
     ]
    },
    {
     "cell_type": "markdown",
     "metadata": {},
     "source": [
      "Since a and b are arbitrary, it should hold for a and b independently:\n",
      "$$a(U^M_{mj} \\gamma^M_{nj}) + b U^M_{m^*i} \\gamma^M_{n^*i} U^M_{m^*j} \\gamma^M_{n^*j} = (a \\mathbf U^M_{mj} A_{kj} + b (\\mathbf U_{mj}^{M} A_{kj})^2 ) \\cdot (\\gamma^M_{nl} A_{lk}^{-1})$$"
     ]
    },
    {
     "cell_type": "markdown",
     "metadata": {},
     "source": [
      "\\begin{align}\n",
      "a(U^M_{mj} \\gamma^M_{nj}) &= (a \\mathbf U^M_{mj} A_{kj}) \\cdot (\\gamma^M_{nl} A_{lk}^{-1}) \\\\\n",
      "                          &= (a \\mathbf U^M_{mj} ) (\\gamma^M_{nl} ) \\delta_{lj} \\\\\n",
      "                          &= (a \\mathbf U^M_{mj} \\gamma^M_{nj})\n",
      "\\end{align}\n",
      "Already satisified. Makes sense, because for linear terms we have no problems. Next:"
     ]
    },
    {
     "cell_type": "markdown",
     "metadata": {},
     "source": [
      "\\begin{align}\n",
      "U^M_{m^*i} \\gamma^M_{n^*i} U^M_{m^*j} \\gamma^M_{n^*j} = (\\mathbf U_{mj}^{M} A_{kj} )^2 (\\gamma^M_{nl} A_{lk}^{-1}) \\\\\n",
      "(U^M_{m^*i}U^M_{m^*j}) \\gamma^M_{n^*i} \\gamma^M_{n^*j} = (\\mathbf U_{mj}^{M} A_{kj} )^2 (\\gamma^M_{nl} A_{lk}^{-1}) \\\\\n",
      "\\end{align}"
     ]
    },
    {
     "cell_type": "markdown",
     "metadata": {},
     "source": [
      "Ideally we want: $(\\gamma^M_{nl} A_{lk}^{-1}) = \\mathbf I$ for the nodes, so, we are left with:\n",
      "$$\\mathbf U^M_{m^*i} \\gamma^M_{k^*i} \\mathbf U^M_{m^*j} \\gamma^M_{k^*j} = (\\mathbf U_{mj}^{M} A_{kj} )^2 $$"
     ]
    },
    {
     "cell_type": "markdown",
     "metadata": {},
     "source": [
      "Explicit example:\n",
      "\\begin{align}\n",
      "2u_1 u_2 \\gamma_{k1} \\gamma_{k2} + u_1^2 \\gamma_{k1}^2 + u_2^2 \\gamma_{k2}^2 &= (u_1 a_{1k} + u_2 a_{2k}) ^2 \\\\\n",
      " &= u_1^2 a_{1k}^2 + u_2^2 a_{2k} ^2  + 2 u_1 u_2 a_{1k} a_{2k}\n",
      "\\end{align}\n",
      "\n",
      "This shows us how to make the A-matrix, but it doesn't show how to pick the samples... and really just is just a = b, there's no difference here... what is going on!) Oh of course. This is by definition for the nodes. So, we cannot drop the last bit:\n",
      "$$\\mathbf U^M_{m^*i} \\gamma^M_{k^*i} \\mathbf U^M_{m^*j} \\gamma^M_{k^*j} = (\\mathbf U_{mj}^{M} A_{kj} )^2 (\\gamma^M_{nl} A_{lk}^{-1}) $$\n",
      "And now I don't think we can solve this for EVERY sample. Excellent. So now we have to do our inner-products or something...\n"
     ]
    },
    {
     "cell_type": "markdown",
     "metadata": {},
     "source": [
      "$$\\mathbf U^M_{m^*i} \\gamma^M_{ki} \\mathbf U^M_{m^*j} \\gamma^M_{kj} \\gamma^M_{kz} = (\\mathbf U_{mj}^{M} A_{kj} )^2 (\\gamma^M_{nl} A_{lk}^{-1}) \\gamma^M_{nz}$$\n",
      "\n",
      "Is it $\\mathbf A \\mathbf C_{yy} = M_{yyy}$ ? we can try that. \n",
      "\n",
      "$A_{Il} \\gamma_l \\gamma_z = \\gamma_i \\gamma_j \\gamma_z$"
     ]
    },
    {
     "cell_type": "markdown",
     "metadata": {},
     "source": [
      "For the spatial function, we have a different inner product:\n",
      "$$\\mathbf U^M_{mi} \\gamma^M_{ki} \\mathbf U^M_{mj} U^M_{mz} \\gamma^M_{kj} \\gamma^M_{kz} = (\\mathbf U_{mj}^{M} A_{kj} )^2 (\\gamma^M_{nl} A_{lk}^{-1}) U^M_{mz}$$\n",
      "\n",
      "MMm... doesn't look promising.. I think I'm stuck again with no progress"
     ]
    },
    {
     "cell_type": "markdown",
     "metadata": {},
     "source": [
      "How does regular quadrature work?\n",
      "$$\\int_n^m a + bx + cx^2 dx = a(m -n) + b / 2(n - m)^2 + c / 3 (n - m) ^3 = w_0 (a + bx_0 + cx_0 ^2) + w_1 (a + bx_1 + cx_1^2)$$\n",
      "$$a(m -n)= w_0 (a) + w_1 (a)$$\n",
      "$$b / 2(n - m)^2 = w_0 (bx_0) + w_1 (bx_1)$$\n",
      "$$c / 3 (n - m)^3 = w_0 (cx_0 ^2) + w_1 (cx_1^2)$$\n",
      "\n",
      "\n",
      "$$(m -n)= w_0 + w_1 $$\n",
      "$$1 / 2(n - m)^2 = w_0 x_0 + w_1 x_1$$\n",
      "$$1 / 3 (n - m)^3 = w_0 x_0 ^2 + w_1 x_1^2$$\n",
      "\n",
      "$$2 - w_1= w_0 $$\n",
      "$$2 = w_0 x_0 + w_1 x_1$$\n",
      "$$8 / 3 = w_0 x_0 ^2 + w_1 x_1^2$$\n",
      "\n",
      "$$2 = (2 - w_1) x_0 + w_1 x_1$$\n",
      "$$2 / w_1 - (2 / w_1 - 1) x_0 =  x_1$$\n",
      "\n",
      "$$8 / 3 = (2 - w_1) x_0 ^2 + w_1 x_1^2$$\n"
     ]
    },
    {
     "cell_type": "heading",
     "level": 3,
     "metadata": {},
     "source": [
      "Another go at it"
     ]
    },
    {
     "cell_type": "markdown",
     "metadata": {},
     "source": [
      "$u_{N}, M_{N \\times N \\times N}, a_{N \\times N^2}, a^{-1}_{N^2\\times N}, C_{N\\times N}$\n",
      "\n",
      "$u_i u_j M_{ijk} = (u_i a_{ij})^2 a^{-1}_{jm} C_{mk}$\n",
      "\n",
      "$u_i u_j M_{ijk} = u_n u_i a_{ij} a_{nj} a^{-1}_{jm} C_{mk}$\n",
      "\n",
      "$u_i u_j M_{ijk} = u_i u_j a_{in} a_{jn} a^{-1}_{nm} C_{mk}$\n",
      "\n",
      "$M_{ijk} = a_{in} a_{jn} a^{-1}_{nm} C_{mk}$\n",
      "\n",
      "$M_{ijk} C^{-1}_{kl} = a_{in} a_{jn} a^{-1}_{nm} C_{mk} C^{-1}_{kl}$\n",
      "\n",
      "$M_{ijk} C^{-1}_{kl} = a_{in} a_{jn} a^{-1}_{nl}$\n",
      "\n",
      "$a_{i,j + l * N} = M_{ijk} C^{-1}_{kl} - a_{in} a_{jn} a^{-1}_{nl} + a_{i,j + l * N}$"
     ]
    },
    {
     "cell_type": "code",
     "collapsed": false,
     "input": [
      "MYYYC = np.random.rand(5, 5, 5) # not quite right, because this has symmetries\n",
      "for i in range(5):\n",
      "    for j in range(5):\n",
      "        for k in range(5):\n",
      "            MYYYC[k, i, j] = MYYYC[i, j, k]\n",
      "            MYYYC[j, k, i] = MYYYC[i, j, k]\n",
      "            MYYYC[j, i, k] = MYYYC[i, j, k]\n",
      "            MYYYC[k, j, i] = MYYYC[i, j, k]\n",
      "            MYYYC[i, k, j] = MYYYC[i, j, k]            \n",
      "A = np.zeros((5, 25)) # As an initial guess\n",
      "A[:5, :5] = np.eye(5)\n",
      "def update(A, omega=1):\n",
      "    B = np.zeros_like(A)\n",
      "    Ainv = np.linalg.pinv(A)\n",
      "    for i in range(5):\n",
      "        for j in range(5):\n",
      "            for l in range(5):\n",
      "                B[i, 5 *  j +l] = MYYYC[i, j, l] - A[i, 5*j +  l]\n",
      "                for n in range(25):\n",
      "                    B[i, 5 * j +  l] -= A[i, n] * A[j, n] * Ainv[n, l]\n",
      "    return B * omega + A * (1 - omega)\n",
      "def check(A):\n",
      "    B = np.zeros_like(A)\n",
      "    Ainv = np.linalg.pinv(A)\n",
      "    for i in range(5):\n",
      "        for j in range(5):\n",
      "            for l in range(5):\n",
      "                B[i, 5 *  j +l] = MYYYC[i, j, l]\n",
      "                for n in range(25):\n",
      "                    B[i, 5 * j +  l] -= A[i, n] * A[j, n] * Ainv[n, l]\n",
      "    return B"
     ],
     "language": "python",
     "metadata": {},
     "outputs": [],
     "prompt_number": 2
    },
    {
     "cell_type": "code",
     "collapsed": false,
     "input": [
      "print A\n",
      "for i in xrange(20):\n",
      "    A = update(A, 0.1)\n",
      "check(A)"
     ],
     "language": "python",
     "metadata": {},
     "outputs": [
      {
       "output_type": "stream",
       "stream": "stdout",
       "text": [
        "[[ 1.  0.  0.  0.  0.  0.  0.  0.  0.  0.  0.  0.  0.  0.  0.  0.  0.  0.\n",
        "   0.  0.  0.  0.  0.  0.  0.]\n",
        " [ 0.  1.  0.  0.  0.  0.  0.  0.  0.  0.  0.  0.  0.  0.  0.  0.  0.  0.\n",
        "   0.  0.  0.  0.  0.  0.  0.]\n",
        " [ 0.  0.  1.  0.  0.  0.  0.  0.  0.  0.  0.  0.  0.  0.  0.  0.  0.  0.\n",
        "   0.  0.  0.  0.  0.  0.  0.]\n",
        " [ 0.  0.  0.  1.  0.  0.  0.  0.  0.  0.  0.  0.  0.  0.  0.  0.  0.  0.\n",
        "   0.  0.  0.  0.  0.  0.  0.]\n",
        " [ 0.  0.  0.  0.  1.  0.  0.  0.  0.  0.  0.  0.  0.  0.  0.  0.  0.  0.\n",
        "   0.  0.  0.  0.  0.  0.  0.]]\n"
       ]
      },
      {
       "metadata": {},
       "output_type": "pyout",
       "prompt_number": 3,
       "text": [
        "array([[-0.22019361,  0.49410791,  0.45814497,  0.93636972,  0.79864849,\n",
        "         0.40707388, -0.01513339,  0.30843047,  0.48960397,  0.26925233,\n",
        "         0.28124282,  0.30358923,  0.23769181,  0.22023313,  0.45437146,\n",
        "         0.71760342,  0.47631582,  0.15145948,  0.12827987,  0.69584513,\n",
        "         0.56833144,  0.24239415,  0.4585349 ,  0.67617839,  0.77269717],\n",
        "       [ 0.40707388, -0.01513339,  0.30843047,  0.48960397,  0.26925233,\n",
        "         0.19142558,  0.39408775,  0.20647948,  0.14513787,  0.20971116,\n",
        "         0.33547033,  0.05186673, -0.06733778,  0.68180987,  0.0951895 ,\n",
        "         0.51509517, -0.10027274,  0.59972416,  0.12700409,  0.80856641,\n",
        "         0.25191403, -0.03657047,  0.10361889,  0.75661575,  0.46365965],\n",
        "       [ 0.28124282,  0.30358923,  0.23769181,  0.22023313,  0.45437146,\n",
        "         0.33547033,  0.05186673, -0.06733778,  0.68180987,  0.0951895 ,\n",
        "         0.4495775 ,  0.04477334,  0.57401172,  0.64128186,  0.25731755,\n",
        "         0.22749829,  0.59836882,  0.40011027,  0.57923328,  0.80121481,\n",
        "         0.4573162 ,  0.07534202,  0.037187  ,  0.7579247 ,  0.0593719 ],\n",
        "       [ 0.71760342,  0.47631582,  0.15145948,  0.12827987,  0.69584513,\n",
        "         0.51509517, -0.10027274,  0.59972416,  0.12700409,  0.80856641,\n",
        "         0.22749829,  0.59836882,  0.40011027,  0.57923328,  0.80121481,\n",
        "         0.27591489,  0.14575597,  0.70173631,  0.47475127,  1.00107137,\n",
        "         0.72625438,  0.74024089,  0.78387299,  0.78967711, -0.20932553],\n",
        "       [ 0.56833144,  0.24239415,  0.4585349 ,  0.67617839,  0.77269717,\n",
        "         0.25191403, -0.03657047,  0.10361889,  0.75661575,  0.46365965,\n",
        "         0.4573162 ,  0.07534202,  0.037187  ,  0.7579247 ,  0.0593719 ,\n",
        "         0.72625438,  0.74024089,  0.78387299,  0.78967711, -0.20932553,\n",
        "         0.98704814,  0.62284048,  0.21433195,  0.07374261,  0.64162405]])"
       ]
      }
     ],
     "prompt_number": 3
    },
    {
     "cell_type": "markdown",
     "metadata": {},
     "source": [
      "This above was simple fixed point iteration. Let's try again with something a little more sophisticated.\n",
      " \n",
      "$M_{ijk} C^{-1}_{kl} = a_{in} a_{jn} a^{-1}_{nl}$\n",
      "\n",
      "$M_{ijk} C^{-1}_{kl} - a_{in} a_{jn} a^{-1}_{nl} + a_{ik^*} a_{jk^*} a^{-1}_{k^*l} = a_{ik^*} a_{jk^*} a^{-1}_{k^*l}$\n",
      "\n",
      "$\\frac{M_{ijk} C^{-1}_{kl} - a_{in} a_{jn} a^{-1}_{nl} + a_{ik^*} a_{jk^*} a^{-1}_{k^*l}}{a_{jk^*} a^{-1}_{k^*l}} = a_{ik^*} $\n",
      "\n",
      "Don't like the division, let's make it nicer:\n",
      "\n",
      "$M_{ijk} C^{-1}_{kl} - a_{in} a_{jn} a^{-1}_{nl} + a_{ik^*} a_{jk^*} a^{-1}_{k^*l} + a_{ik^*} = a_{ik^*}(1+ a_{jk^*} a^{-1}_{k^*l})$\n",
      "\n",
      "$\\frac{M_{ijk} C^{-1}_{kl} - a_{in} a_{jn} a^{-1}_{nl} + a_{ik^*} a_{jk^*} a^{-1}_{k^*l} + a_{ik^*}}{1+a_{jk^*} a^{-1}_{k^*l}} = a_{ik^*} $\n"
     ]
    },
    {
     "cell_type": "code",
     "collapsed": false,
     "input": [
      "A = MYYYC.copy().reshape(5, 25)\n",
      "#A[:5, :5] = np.eye(5)\n",
      "def update(A, omega=1):\n",
      "    B = np.zeros_like(A)\n",
      "    Ainv = np.linalg.pinv(A)\n",
      "    for i in range(5):\n",
      "        for j in range(5):\n",
      "            for k in range(25):\n",
      "                for l in range(5):\n",
      "                    B[i, k] += (MYYYC[i, j, l] + A[i, k] * A[j, k] * Ainv[k, l] + A[i, k])  / (A[j, k] * Ainv[k, l] + 1)\n",
      "                    for n in range(25):\n",
      "                        B[i, k] -= (A[i, n] * A[j, n] * Ainv[n, l]) / (A[j, k] * Ainv[k, l] + 1)\n",
      "    return B * omega + A * (1 - omega)\n"
     ],
     "language": "python",
     "metadata": {},
     "outputs": [],
     "prompt_number": 405
    },
    {
     "cell_type": "code",
     "collapsed": false,
     "input": [
      "print (np.abs(check(A)).sum())\n",
      "A = update(A, -0.01)\n",
      "(np.abs(check(A)).sum())"
     ],
     "language": "python",
     "metadata": {},
     "outputs": [
      {
       "output_type": "stream",
       "stream": "stdout",
       "text": [
        "78.8026550574\n"
       ]
      },
      {
       "metadata": {},
       "output_type": "pyout",
       "prompt_number": 442,
       "text": [
        "87.964216722614552"
       ]
      }
     ],
     "prompt_number": 442
    },
    {
     "cell_type": "markdown",
     "metadata": {},
     "source": [
      "Ok, we can also re-arrange\n",
      " \n",
      "$M_{ijk} C^{-1}_{kl} = a_{in} a_{jn} a^{-1}_{nl}$\n",
      "\n",
      "$M_{ijk} C^{-1}_{kl} - a_{in} a_{jn} a^{-1}_{nl} + a_{ik^*} a_{jk^*} a^{-1}_{k^*l} = a_{ik^*} a_{jk^*} a^{-1}_{k^*l}$\n",
      "\n",
      "$\\frac{M_{ijk} C^{-1}_{kl} - a_{in} a_{jn} a^{-1}_{nl} + a_{ik^*} a_{jk^*} a^{-1}_{k^*l} + a^{-1}_{k^*l}}{1 + a_{jk^*} a_{ik^*}} = a^{-1}_{k^*l} $\n",
      "\n"
     ]
    },
    {
     "cell_type": "code",
     "collapsed": false,
     "input": [
      "A = MYYYC.copy().reshape(5, 25)\n",
      "#A[:5, :5] = np.eye(5)\n",
      "def update(A, omega=1):\n",
      "    Ainv = np.linalg.pinv(A)\n",
      "    B = np.zeros_like(Ainv)\n",
      "    for l in range(5):\n",
      "        for k in range(25):\n",
      "            for i in range(5):\n",
      "                for j in range(5):\n",
      "                    B[k, l] += (MYYYC[i, j, l] + A[i, k] * A[j, k] * Ainv[k, l] + Ainv[k, l])  / (A[j, k] * A[i, k] + 1)\n",
      "                    for n in range(25):\n",
      "                        B[k, l] -= (A[i, n] * A[j, n] * Ainv[n, l]) / (A[j, k] * A[i, k] + 1)\n",
      "    return np.linalg.pinv(B * omega + Ainv * (1 - omega))\n"
     ],
     "language": "python",
     "metadata": {},
     "outputs": [],
     "prompt_number": 497
    },
    {
     "cell_type": "code",
     "collapsed": false,
     "input": [
      "print (np.abs(check(A)).sum())\n",
      "A = update(A, 1)\n",
      "(np.abs(check(A)).sum())\n",
      "# Converges! But to the wrong thing... \n",
      "A"
     ],
     "language": "python",
     "metadata": {},
     "outputs": [
      {
       "output_type": "stream",
       "stream": "stdout",
       "text": [
        "55.5423537434\n"
       ]
      },
      {
       "metadata": {},
       "output_type": "pyout",
       "prompt_number": 509,
       "text": [
        "array([[ -6.44559033e-18,   3.48031065e-18,   1.37905017e-18,\n",
        "          6.35036373e-18,   2.90006183e-18,   3.48031065e-18,\n",
        "         -5.48510308e-19,   2.28892769e-19,   3.55227200e-19,\n",
        "         -2.59634702e-18,   1.37905017e-18,   2.28892769e-19,\n",
        "         -9.64620935e-20,  -5.15630764e-18,   5.64547506e-19,\n",
        "          6.35036373e-18,   3.55227200e-19,  -5.15630764e-18,\n",
        "         -4.85394264e-18,  -8.91345314e-20,   2.90006183e-18,\n",
        "         -2.59634702e-18,   5.64547506e-19,  -8.91345314e-20,\n",
        "          6.62046418e-18],\n",
        "       [  2.90312537e-18,  -1.21497954e-18,   1.25150827e-18,\n",
        "          1.60445031e-18,  -3.89210611e-18,  -1.21497954e-18,\n",
        "          8.38958377e-18,   1.07977062e-18,  -2.46919374e-18,\n",
        "         -1.77887114e-18,   1.25150827e-18,   1.07977062e-18,\n",
        "         -4.38583272e-18,   4.90740974e-18,  -3.76398836e-18,\n",
        "          1.60445031e-18,  -2.46919374e-18,   4.90740974e-18,\n",
        "         -3.35483873e-18,   4.48974309e-18,  -3.89210611e-18,\n",
        "         -1.77887114e-18,  -3.76398836e-18,   4.48974309e-18,\n",
        "          4.01725678e-18],\n",
        "       [ -9.80997241e-19,   1.61903692e-19,   2.97961318e-18,\n",
        "         -3.18585840e-18,  -2.16907231e-18,   1.61903692e-19,\n",
        "          1.65068543e-18,  -2.85277147e-18,   5.65826678e-18,\n",
        "         -4.81538206e-18,   2.97961318e-18,  -2.85277147e-18,\n",
        "          8.75209204e-18,   2.89616462e-18,  -1.53703597e-18,\n",
        "         -3.18585840e-18,   5.65826678e-18,   2.89616462e-18,\n",
        "          2.39099830e-18,   3.38887069e-18,  -2.16907231e-18,\n",
        "         -4.81538206e-18,  -1.53703597e-18,   3.38887069e-18,\n",
        "         -2.91515927e-18],\n",
        "       [  3.73913638e-18,   4.93512733e-19,  -2.53812736e-18,\n",
        "         -3.93261489e-18,  -1.69212048e-18,   4.93512733e-19,\n",
        "         -1.78199193e-18,   5.24043805e-18,  -3.89207066e-18,\n",
        "          4.33620928e-18,  -2.53812736e-18,   5.24043805e-18,\n",
        "          1.43862288e-18,   5.29191148e-19,   4.29464790e-18,\n",
        "         -3.93261489e-18,  -3.89207066e-18,   5.29191148e-19,\n",
        "          2.22593804e-18,   4.04860762e-18,  -1.69212048e-18,\n",
        "          4.33620928e-18,   4.29464790e-18,   4.04860762e-18,\n",
        "         -8.66876227e-18],\n",
        "       [  3.49140732e-18,  -2.13324776e-18,   1.14178003e-18,\n",
        "          1.41783560e-18,   4.42759527e-18,  -2.13324776e-18,\n",
        "         -3.88111644e-19,  -3.79728415e-18,   4.14538952e-18,\n",
        "          3.64784006e-18,   1.14178003e-18,  -3.79728415e-18,\n",
        "         -3.91514368e-18,   2.46832499e-18,  -1.32921458e-18,\n",
        "          1.41783560e-18,   4.14538952e-18,   2.46832499e-18,\n",
        "          4.52078578e-18,  -8.45143880e-18,   4.42759527e-18,\n",
        "          3.64784006e-18,  -1.32921458e-18,  -8.45143880e-18,\n",
        "          6.10865034e-18]])"
       ]
      }
     ],
     "prompt_number": 509
    },
    {
     "cell_type": "code",
     "collapsed": false,
     "input": [],
     "language": "python",
     "metadata": {},
     "outputs": []
    }
   ],
   "metadata": {}
  }
 ]
}