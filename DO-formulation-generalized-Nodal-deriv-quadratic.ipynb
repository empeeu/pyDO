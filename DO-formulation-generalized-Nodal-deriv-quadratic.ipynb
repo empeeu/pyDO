{
 "metadata": {
  "name": "",
  "signature": "sha256:63f669bd10bcd618a23a4170c8bf866e711f0a0c2682fa4a3210ac7ff81d366a"
 },
 "nbformat": 3,
 "nbformat_minor": 0,
 "worksheets": [
  {
   "cells": [
    {
     "cell_type": "code",
     "collapsed": false,
     "input": [
      "Generalized Dynamical Orthogonality"
     ],
     "language": "python",
     "metadata": {},
     "outputs": [
      {
       "ename": "SyntaxError",
       "evalue": "invalid syntax (<ipython-input-1-9b6b9e848915>, line 1)",
       "output_type": "pyerr",
       "traceback": [
        "\u001b[1;36m  File \u001b[1;32m\"<ipython-input-1-9b6b9e848915>\"\u001b[1;36m, line \u001b[1;32m1\u001b[0m\n\u001b[1;33m    Generalized Dynamical Orthogonality\u001b[0m\n\u001b[1;37m                        ^\u001b[0m\n\u001b[1;31mSyntaxError\u001b[0m\u001b[1;31m:\u001b[0m invalid syntax\n"
       ]
      }
     ],
     "prompt_number": 1
    },
    {
     "cell_type": "code",
     "collapsed": false,
     "input": [
      "%pylab inline\n",
      "pylab.rcParams['figure.figsize'] = 18, 8"
     ],
     "language": "python",
     "metadata": {},
     "outputs": [
      {
       "output_type": "stream",
       "stream": "stdout",
       "text": [
        "Populating the interactive namespace from numpy and matplotlib\n"
       ]
      }
     ],
     "prompt_number": 2
    },
    {
     "cell_type": "markdown",
     "metadata": {},
     "source": [
      "Very well, so the goal now is to efficiently calculate the following for an arbitrary function:\n",
      "\\begin{align}\n",
      "E\\left[\\mathcal L(\\mathbf u) \\gamma_i\\right] \\\\\n",
      "\\left<\\mathcal L(\\mathbf u), \\mathbf u_j \\right> \n",
      "\\end{align}\n",
      "Substitute the decomposition\n",
      "\\begin{align}\n",
      "E\\left[\\mathcal L(\\mathbf u_k \\gamma_k) \\gamma_i\\right]\\\\\n",
      "\\left<\\mathcal L(\\mathbf u_k \\gamma_k), \\mathbf u_j \\right> \n",
      "\\end{align}"
     ]
    },
    {
     "cell_type": "markdown",
     "metadata": {},
     "source": [
      "\\begin{align}\n",
      "E\\left[\\mathcal L\\left(\\mathbf u_k(\\mathbf x, t) \\gamma_k(t ; \\xi)\\right) \\gamma_i(t; \\xi)\\right] \n",
      "&\\approx E\\left[\\mathcal L\\left(\\mathbf u_k(\\mathbf x, t)\\right) \\gamma_k(t ; \\xi) \\gamma_i(t; \\xi)\\right] \\\\\n",
      "&= \\mathcal L\\left(\\mathbf u_k(\\mathbf x, t)\\right) E\\left[\\gamma_k(t ; \\xi) \\gamma_i(t; \\xi)\\right] \\\\\n",
      "&= \\mathcal L\\left(\\mathbf u_k \\right) E\\left[\\gamma_k \\gamma_i\\right] \n",
      "\\end{align}"
     ]
    },
    {
     "cell_type": "markdown",
     "metadata": {},
     "source": [
      "Similarly:\n",
      "\\begin{align}\n",
      "\\left<\\mathcal L(\\mathbf u_k \\gamma_k), \\mathbf u_j \\right>  \n",
      "&\\approx \\left<\\mathcal L(\\mathbf u_k) \\gamma_k, \\mathbf u_j \\right>  \\\\\n",
      "&= \\left<\\mathcal L(\\mathbf u_k), \\mathbf u_j \\right> \\gamma_k\n",
      "\\end{align}"
     ]
    },
    {
     "cell_type": "heading",
     "level": 2,
     "metadata": {},
     "source": [
      "A new Derivation"
     ]
    },
    {
     "cell_type": "markdown",
     "metadata": {},
     "source": [
      "So, we're just giving up on doing this completely in general. Instead, let's try to solve exactly for a case where $\\mathcal L(u) = au + bu^2$"
     ]
    },
    {
     "cell_type": "markdown",
     "metadata": {},
     "source": [
      "Discretely, we want:\n",
      "$$ \\mathcal L(\\mathbf U_M \\cdot \\gamma_M^T) \\cdot \\gamma_M = \\mathcal L(\\mathbf U_N) \\cdot \\gamma_N^T \\cdot \\gamma_M$$\n",
      "\n",
      "and\n",
      "\n",
      "$$ \\mathcal L(\\mathbf U_M \\cdot \\gamma_M^T)^T \\cdot \\mathbf U_M = (\\mathcal L(\\mathbf U_N) \\cdot \\gamma_N^T)^T \\cdot \\mathbf U_M $$"
     ]
    },
    {
     "cell_type": "markdown",
     "metadata": {},
     "source": [
      "or simply (a stronger requirement)\n",
      "$$\n",
      "\\mathcal L(\\mathbf U_M \\cdot \\gamma_M^T) = \\mathcal L(\\mathbf U_N) \\cdot \\gamma_N^T\n",
      "$$\n"
     ]
    },
    {
     "cell_type": "markdown",
     "metadata": {},
     "source": [
      "Also, recall that:\n",
      "$$\n",
      "\\mathbf U_N = \\mathbf U_M \\cdot \\mathbf A^T \\\\\n",
      "\\gamma_N = \\gamma M \\cdot \\mathbf A^{-1}\n",
      "$$"
     ]
    },
    {
     "cell_type": "markdown",
     "metadata": {},
     "source": [
      "So, let $\\mathcal L(\\mathbf U) = a\\mathbf U + b\\mathbf U^2$, and solving for $\\mathbf A$. First I'll go back to Einstein notation"
     ]
    },
    {
     "cell_type": "markdown",
     "metadata": {},
     "source": [
      "$$a(U^M_{mj} \\gamma^M_{nj}) + b U^M_{m^*i} \\gamma^M_{n^*i} U^M_{m^*j} \\gamma^M_{n^*j} = (a \\mathbf U_{mj} + b \\mathbf U_{mj}^2) \\gamma^N_{nj}$$"
     ]
    },
    {
     "cell_type": "markdown",
     "metadata": {},
     "source": [
      "Since a and b are arbitrary, it should hold for a and b independently:\n",
      "$$a(U^M_{mj} \\gamma^M_{nj}) + b U^M_{m^*i} \\gamma^M_{n^*i} U^M_{m^*j} \\gamma^M_{n^*j} = (a \\mathbf U^M_{mj} A_{kj} + b (\\mathbf U_{mj}^{M} A_{kj})^2 ) \\cdot (\\gamma^M_{nl} A_{lk}^{-1})$$"
     ]
    },
    {
     "cell_type": "markdown",
     "metadata": {},
     "source": [
      "\\begin{align}\n",
      "a(U^M_{mj} \\gamma^M_{nj}) &= (a \\mathbf U^M_{mj} A_{kj}) \\cdot (\\gamma^M_{nl} A_{lk}^{-1}) \\\\\n",
      "                          &= (a \\mathbf U^M_{mj} ) (\\gamma^M_{nl} ) \\delta_{lj} \\\\\n",
      "                          &= (a \\mathbf U^M_{mj} \\gamma^M_{nj})\n",
      "\\end{align}\n",
      "Already satisified. Makes sense, because for linear terms we have no problems. Next:"
     ]
    },
    {
     "cell_type": "markdown",
     "metadata": {},
     "source": [
      "\\begin{align}\n",
      "U^M_{m^*i} \\gamma^M_{n^*i} U^M_{m^*j} \\gamma^M_{n^*j} = (\\mathbf U_{mj}^{M} A_{kj} )^2 (\\gamma^M_{nl} A_{lk}^{-1}) \\\\\n",
      "(U^M_{m^*i}U^M_{m^*j}) \\gamma^M_{n^*i} \\gamma^M_{n^*j} = (\\mathbf U_{mj}^{M} A_{kj} )^2 (\\gamma^M_{nl} A_{lk}^{-1}) \\\\\n",
      "\\end{align}"
     ]
    },
    {
     "cell_type": "markdown",
     "metadata": {},
     "source": [
      "Ideally we want: $(\\gamma^M_{nl} A_{lk}^{-1}) = \\mathbf I$ for the nodes, so, we are left with:\n",
      "$$\\mathbf U^M_{m^*i} \\gamma^M_{k^*i} \\mathbf U^M_{m^*j} \\gamma^M_{k^*j} = (\\mathbf U_{mj}^{M} A_{kj} )^2 $$"
     ]
    },
    {
     "cell_type": "markdown",
     "metadata": {},
     "source": [
      "Explicit example:\n",
      "\\begin{align}\n",
      "2u_1 u_2 \\gamma_{k1} \\gamma_{k2} + u_1^2 \\gamma_{k1}^2 + u_2^2 \\gamma_{k2}^2 &= (u_1 a_{1k} + u_2 a_{2k}) ^2 \\\\\n",
      " &= u_1^2 a_{1k}^2 + u_2^2 a_{2k} ^2  + 2 u_1 u_2 a_{1k} a_{2k}\n",
      "\\end{align}\n",
      "\n",
      "This shows us how to make the A-matrix, but it doesn't show how to pick the samples... and really just is just a = b, there's no difference here... what is going on!) Oh of course. This is by definition for the nodes. So, we cannot drop the last bit:\n",
      "$$\\mathbf U^M_{m^*i} \\gamma^M_{k^*i} \\mathbf U^M_{m^*j} \\gamma^M_{k^*j} = (\\mathbf U_{mj}^{M} A_{kj} )^2 (\\gamma^M_{nl} A_{lk}^{-1}) $$\n",
      "And now I don't think we can solve this for EVERY sample. Excellent. So now we have to do our inner-products or something...\n"
     ]
    },
    {
     "cell_type": "markdown",
     "metadata": {},
     "source": [
      "$$\\mathbf U^M_{m^*i} \\gamma^M_{ki} \\mathbf U^M_{m^*j} \\gamma^M_{kj} \\gamma^M_{kz} = (\\mathbf U_{mj}^{M} A_{kj} )^2 (\\gamma^M_{nl} A_{lk}^{-1}) \\gamma^M_{nz}$$\n",
      "\n",
      "Is it $\\mathbf A \\mathbf C_{yy} = M_{yyy}$ ? we can try that. \n",
      "\n",
      "$A_{Il} \\gamma_l \\gamma_z = \\gamma_i \\gamma_j \\gamma_z$"
     ]
    },
    {
     "cell_type": "markdown",
     "metadata": {},
     "source": [
      "For the spatial function, we have a different inner product:\n",
      "$$\\mathbf U^M_{mi} \\gamma^M_{ki} \\mathbf U^M_{mj} U^M_{mz} \\gamma^M_{kj} \\gamma^M_{kz} = (\\mathbf U_{mj}^{M} A_{kj} )^2 (\\gamma^M_{nl} A_{lk}^{-1}) U^M_{mz}$$\n",
      "\n",
      "MMm... doesn't look promising.. I think I'm stuck again with no progress"
     ]
    },
    {
     "cell_type": "markdown",
     "metadata": {},
     "source": [
      "How does regular quadrature work?\n",
      "$$\\int_n^m a + bx + cx^2 dx = a(m -n) + b / 2(n - m)^2 + c / 3 (n - m) ^3 = w_0 (a + bx_0 + cx_0 ^2) + w_1 (a + bx_1 + cx_1^2)$$\n",
      "$$a(m -n)= w_0 (a) + w_1 (a)$$\n",
      "$$b / 2(n - m)^2 = w_0 (bx_0) + w_1 (bx_1)$$\n",
      "$$c / 3 (n - m)^3 = w_0 (cx_0 ^2) + w_1 (cx_1^2)$$\n",
      "\n",
      "\n",
      "$$(m -n)= w_0 + w_1 $$\n",
      "$$1 / 2(n - m)^2 = w_0 x_0 + w_1 x_1$$\n",
      "$$1 / 3 (n - m)^3 = w_0 x_0 ^2 + w_1 x_1^2$$\n",
      "\n",
      "$$2 - w_1= w_0 $$\n",
      "$$2 = w_0 x_0 + w_1 x_1$$\n",
      "$$8 / 3 = w_0 x_0 ^2 + w_1 x_1^2$$\n",
      "\n",
      "$$2 = (2 - w_1) x_0 + w_1 x_1$$\n",
      "$$2 / w_1 - (2 / w_1 - 1) x_0 =  x_1$$\n",
      "\n",
      "$$8 / 3 = (2 - w_1) x_0 ^2 + w_1 x_1^2$$\n"
     ]
    },
    {
     "cell_type": "heading",
     "level": 3,
     "metadata": {},
     "source": [
      "Another go at it"
     ]
    },
    {
     "cell_type": "markdown",
     "metadata": {},
     "source": [
      "$u_{N}, M_{N \\times N \\times N}, a_{N \\times N^2}, a^{-1}_{N^2\\times N}, C_{N\\times N}$\n",
      "\n",
      "$u_i u_j M_{ijk} = (u_i a_{ij})^2 a^{-1}_{jm} C_{mk}$\n",
      "\n",
      "$u_i u_j M_{ijk} = u_n u_i a_{ij} a_{nj} a^{-1}_{jm} C_{mk}$\n",
      "\n",
      "$u_i u_j M_{ijk} = u_i u_j a_{in} a_{jn} a^{-1}_{nm} C_{mk}$\n",
      "\n",
      "$M_{ijk} = a_{in} a_{jn} a^{-1}_{nm} C_{mk}$\n",
      "\n",
      "$M_{ijk} C^{-1}_{kl} = a_{in} a_{jn} a^{-1}_{nm} C_{mk} C^{-1}_{kl}$\n",
      "\n",
      "$M_{ijk} C^{-1}_{kl} = a_{in} a_{jn} a^{-1}_{nl}$\n",
      "\n",
      "$a_{i,j + l * N} = M_{ijk} C^{-1}_{kl} - a_{in} a_{jn} a^{-1}_{nl} + a_{i,j + l * N}$"
     ]
    },
    {
     "cell_type": "code",
     "collapsed": false,
     "input": [
      "N_do = 3\n",
      "MYYYC = np.random.rand(N_do, N_do, N_do) # not quite right, because this has symmetries\n",
      "for i in range(N_do):\n",
      "    for j in range(N_do):\n",
      "        for k in range(N_do):\n",
      "            MYYYC[k, i, j] = MYYYC[i, j, k]\n",
      "            MYYYC[j, k, i] = MYYYC[i, j, k]\n",
      "            MYYYC[j, i, k] = MYYYC[i, j, k]\n",
      "            MYYYC[k, j, i] = MYYYC[i, j, k]\n",
      "            MYYYC[i, k, j] = MYYYC[i, j, k]            \n",
      "A = np.zeros((N_do, N_do ** 2)) # As an initial guess\n",
      "A[:N_do, :N_do] = np.eye(N_do)\n",
      "def update(A, omega=1):\n",
      "    B = np.zeros_like(A)\n",
      "    Ainv = np.linalg.pinv(A)\n",
      "    for i in range(N_do):\n",
      "        for j in range(N_do):\n",
      "            for l in range(N_do):\n",
      "                B[i, N_do *  j +l] = MYYYC[i, j, l] - A[i, N_do*j +  l]\n",
      "                for n in range(N_do ** 2):\n",
      "                    B[i, N_do * j +  l] -= A[i, n] * A[j, n] * Ainv[n, l]\n",
      "    return B * omega + A * (1 - omega)\n",
      "def check(A):\n",
      "    B = np.zeros_like(A)\n",
      "    Ainv = np.linalg.pinv(A)\n",
      "    for i in range(N_do):\n",
      "        for j in range(N_do):\n",
      "            for l in range(N_do):\n",
      "                B[i, N_do *  j +l] = MYYYC[i, j, l]\n",
      "                for n in range(N_do):\n",
      "                    B[i, N_do * j +  l] -= A[i, n] * A[j, n] * Ainv[n, l]\n",
      "    return B"
     ],
     "language": "python",
     "metadata": {},
     "outputs": [],
     "prompt_number": 3
    },
    {
     "cell_type": "code",
     "collapsed": false,
     "input": [
      "print A\n",
      "for i in xrange(20):\n",
      "    A = update(A, 0.1)\n",
      "check(A)"
     ],
     "language": "python",
     "metadata": {},
     "outputs": [
      {
       "output_type": "stream",
       "stream": "stdout",
       "text": [
        "[[ 1.  0.  0.  0.  0.  0.  0.  0.  0.]\n",
        " [ 0.  1.  0.  0.  0.  0.  0.  0.  0.]\n",
        " [ 0.  0.  1.  0.  0.  0.  0.  0.  0.]]\n"
       ]
      },
      {
       "metadata": {},
       "output_type": "pyout",
       "prompt_number": 4,
       "text": [
        "array([[ 0.03818304,  0.19757279,  0.42999779,  0.24006842,  0.31265802,\n",
        "         0.86272389,  0.45688001,  0.83846381,  0.48456029],\n",
        "       [ 0.24006842,  0.31265802,  0.86272389,  0.41533993,  0.28877806,\n",
        "         0.46677906,  0.87122556,  0.34541867,  0.6483458 ],\n",
        "       [ 0.45688001,  0.83846381,  0.48456029,  0.87122556,  0.34541867,\n",
        "         0.6483458 ,  0.58915944,  0.73027366,  0.18210757]])"
       ]
      }
     ],
     "prompt_number": 4
    },
    {
     "cell_type": "markdown",
     "metadata": {},
     "source": [
      "This above was simple fixed point iteration. Let's try again with something a little more sophisticated.\n",
      " \n",
      "$M_{ijk} C^{-1}_{kl} = a_{in} a_{jn} a^{-1}_{nl}$\n",
      "\n",
      "$M_{ijk} C^{-1}_{kl} - a_{in} a_{jn} a^{-1}_{nl} + a_{ik^*} a_{jk^*} a^{-1}_{k^*l} = a_{ik^*} a_{jk^*} a^{-1}_{k^*l}$\n",
      "\n",
      "$\\frac{M_{ijk} C^{-1}_{kl} - a_{in} a_{jn} a^{-1}_{nl} + a_{ik^*} a_{jk^*} a^{-1}_{k^*l}}{a_{jk^*} a^{-1}_{k^*l}} = a_{ik^*} $\n",
      "\n",
      "Don't like the division, let's make it nicer:\n",
      "\n",
      "$M_{ijk} C^{-1}_{kl} - a_{in} a_{jn} a^{-1}_{nl} + a_{ik^*} a_{jk^*} a^{-1}_{k^*l} + a_{ik^*} = a_{ik^*}(1+ a_{jk^*} a^{-1}_{k^*l})$\n",
      "\n",
      "$\\frac{M_{ijk} C^{-1}_{kl} - a_{in} a_{jn} a^{-1}_{nl} + a_{ik^*} a_{jk^*} a^{-1}_{k^*l} + a_{ik^*}}{1+a_{jk^*} a^{-1}_{k^*l}} = a_{ik^*} $\n"
     ]
    },
    {
     "cell_type": "code",
     "collapsed": false,
     "input": [
      "A = MYYYC.copy().reshape(5, 25)\n",
      "#A[:5, :5] = np.eye(5)\n",
      "def update(A, omega=1):\n",
      "    B = np.zeros_like(A)\n",
      "    Ainv = np.linalg.pinv(A)\n",
      "    for i in range(5):\n",
      "        for j in range(5):\n",
      "            for k in range(25):\n",
      "                for l in range(5):\n",
      "                    B[i, k] += (MYYYC[i, j, l] + A[i, k] * A[j, k] * Ainv[k, l] + A[i, k])  / (A[j, k] * Ainv[k, l] + 1)\n",
      "                    for n in range(25):\n",
      "                        B[i, k] -= (A[i, n] * A[j, n] * Ainv[n, l]) / (A[j, k] * Ainv[k, l] + 1)\n",
      "    return B * omega + A * (1 - omega)\n"
     ],
     "language": "python",
     "metadata": {},
     "outputs": [
      {
       "ename": "ValueError",
       "evalue": "total size of new array must be unchanged",
       "output_type": "pyerr",
       "traceback": [
        "\u001b[1;31m---------------------------------------------------------------------------\u001b[0m\n\u001b[1;31mValueError\u001b[0m                                Traceback (most recent call last)",
        "\u001b[1;32m<ipython-input-5-54d3915df605>\u001b[0m in \u001b[0;36m<module>\u001b[1;34m()\u001b[0m\n\u001b[1;32m----> 1\u001b[1;33m \u001b[0mA\u001b[0m \u001b[1;33m=\u001b[0m \u001b[0mMYYYC\u001b[0m\u001b[1;33m.\u001b[0m\u001b[0mcopy\u001b[0m\u001b[1;33m(\u001b[0m\u001b[1;33m)\u001b[0m\u001b[1;33m.\u001b[0m\u001b[0mreshape\u001b[0m\u001b[1;33m(\u001b[0m\u001b[1;36m5\u001b[0m\u001b[1;33m,\u001b[0m \u001b[1;36m25\u001b[0m\u001b[1;33m)\u001b[0m\u001b[1;33m\u001b[0m\u001b[0m\n\u001b[0m\u001b[0;32m      2\u001b[0m \u001b[1;31m#A[:5, :5] = np.eye(5)\u001b[0m\u001b[1;33m\u001b[0m\u001b[1;33m\u001b[0m\u001b[0m\n\u001b[0;32m      3\u001b[0m \u001b[1;32mdef\u001b[0m \u001b[0mupdate\u001b[0m\u001b[1;33m(\u001b[0m\u001b[0mA\u001b[0m\u001b[1;33m,\u001b[0m \u001b[0momega\u001b[0m\u001b[1;33m=\u001b[0m\u001b[1;36m1\u001b[0m\u001b[1;33m)\u001b[0m\u001b[1;33m:\u001b[0m\u001b[1;33m\u001b[0m\u001b[0m\n\u001b[0;32m      4\u001b[0m     \u001b[0mB\u001b[0m \u001b[1;33m=\u001b[0m \u001b[0mnp\u001b[0m\u001b[1;33m.\u001b[0m\u001b[0mzeros_like\u001b[0m\u001b[1;33m(\u001b[0m\u001b[0mA\u001b[0m\u001b[1;33m)\u001b[0m\u001b[1;33m\u001b[0m\u001b[0m\n\u001b[0;32m      5\u001b[0m     \u001b[0mAinv\u001b[0m \u001b[1;33m=\u001b[0m \u001b[0mnp\u001b[0m\u001b[1;33m.\u001b[0m\u001b[0mlinalg\u001b[0m\u001b[1;33m.\u001b[0m\u001b[0mpinv\u001b[0m\u001b[1;33m(\u001b[0m\u001b[0mA\u001b[0m\u001b[1;33m)\u001b[0m\u001b[1;33m\u001b[0m\u001b[0m\n",
        "\u001b[1;31mValueError\u001b[0m: total size of new array must be unchanged"
       ]
      }
     ],
     "prompt_number": 5
    },
    {
     "cell_type": "code",
     "collapsed": false,
     "input": [
      "print (np.abs(check(A)).sum())\n",
      "A = update(A, -0.01)\n",
      "(np.abs(check(A)).sum())"
     ],
     "language": "python",
     "metadata": {},
     "outputs": []
    },
    {
     "cell_type": "markdown",
     "metadata": {},
     "source": [
      "Ok, we can also re-arrange\n",
      " \n",
      "$M_{ijk} C^{-1}_{kl} = a_{in} a_{jn} a^{-1}_{nl}$\n",
      "\n",
      "$M_{ijk} C^{-1}_{kl} - a_{in} a_{jn} a^{-1}_{nl} + a_{ik^*} a_{jk^*} a^{-1}_{k^*l} = a_{ik^*} a_{jk^*} a^{-1}_{k^*l}$\n",
      "\n",
      "$\\frac{M_{ijk} C^{-1}_{kl} - a_{in} a_{jn} a^{-1}_{nl} + a_{ik^*} a_{jk^*} a^{-1}_{k^*l} + a^{-1}_{k^*l}}{1 + a_{jk^*} a_{ik^*}} = a^{-1}_{k^*l} $\n",
      "\n"
     ]
    },
    {
     "cell_type": "code",
     "collapsed": false,
     "input": [
      "A = MYYYC.copy().reshape(5, 25)\n",
      "#A[:5, :5] = np.eye(5)\n",
      "def update(A, omega=1):\n",
      "    Ainv = np.linalg.pinv(A)\n",
      "    B = np.zeros_like(Ainv)\n",
      "    for l in range(5):\n",
      "        for k in range(25):\n",
      "            for i in range(5):\n",
      "                for j in range(5):\n",
      "                    B[k, l] += (MYYYC[i, j, l] + A[i, k] * A[j, k] * Ainv[k, l] + Ainv[k, l])  / (A[j, k] * A[i, k] + 1)\n",
      "                    for n in range(25):\n",
      "                        B[k, l] -= (A[i, n] * A[j, n] * Ainv[n, l]) / (A[j, k] * A[i, k] + 1)\n",
      "    return np.linalg.pinv(B * omega + Ainv * (1 - omega))\n"
     ],
     "language": "python",
     "metadata": {},
     "outputs": []
    },
    {
     "cell_type": "code",
     "collapsed": false,
     "input": [
      "print (np.abs(check(A)).sum())\n",
      "A = update(A, 1)\n",
      "(np.abs(check(A)).sum())\n",
      "# Converges! But to the wrong thing... \n",
      "A"
     ],
     "language": "python",
     "metadata": {},
     "outputs": []
    },
    {
     "cell_type": "markdown",
     "metadata": {},
     "source": [
      "#After Christmas"
     ]
    },
    {
     "cell_type": "markdown",
     "metadata": {},
     "source": [
      "AA * A = Mijk\n",
      "\n",
      "Mijk - AA * A = d\n",
      "\n",
      "AA * (A + AA^-1 d) = Mijk\n",
      "\n",
      "AA * A + d = Mijk\n",
      "\n",
      "A2 = A + AA^-1 d"
     ]
    },
    {
     "cell_type": "code",
     "collapsed": false,
     "input": [
      "def update(A, omega=1, omega2=1, iter=10):\n",
      "    Mguess = np.zeros((N_do, N_do, N_do))\n",
      "    Ainv = np.linalg.pinv(A)\n",
      "    B = MYYYC.reshape(N_do ** 2, N_do)\n",
      "    AA = np.zeros((N_do **2, N_do ** 2))\n",
      "    count = 0\n",
      "    for i in xrange(N_do):\n",
      "        for j in xrange(N_do):\n",
      "            AA[count, :] = A[i, :] * Ainv[:, j]\n",
      "            count += 1\n",
      "    A_old = A.copy()\n",
      "    A = np.dot(np.linalg.pinv(AA), B)\n",
      "    for i in xrange(iter):\n",
      "        A = omega * np.dot(np.linalg.pinv(AA), (B - np.dot(AA, A))) + A\n",
      "    #print np.sqrt(np.sum((B - np.dot(AA, A)) **2))\n",
      "    #print B - np.dot(AA, A), np.linalg.matrix_rank(AA), np.linalg.det(AA)\n",
      "    #print \"AA\\n\", AA\n",
      "    \n",
      "    return A.T * omega + (1-omega) * A_old, np.sqrt(np.sum((B - np.dot(AA, A)) **2))"
     ],
     "language": "python",
     "metadata": {},
     "outputs": [],
     "prompt_number": 6
    },
    {
     "cell_type": "code",
     "collapsed": false,
     "input": [
      "# Initialize A\n",
      "A = np.zeros((N_do, N_do**2))\n",
      "count = 0\n",
      "for i in xrange(N_do):\n",
      "    for j in xrange(N_do):\n",
      "        A[i, count] = 1\n",
      "        A[j, count] = 1\n",
      "        count += 1\n",
      "        \n",
      "print A.sum(0)\n",
      "A = MYYYC.reshape(N_do, N_do **2)\n",
      "#A = np.random.rand(N_do, N_do ** 2)"
     ],
     "language": "python",
     "metadata": {},
     "outputs": [
      {
       "output_type": "stream",
       "stream": "stdout",
       "text": [
        "[ 1.  2.  2.  2.  1.  2.  2.  2.  1.]\n"
       ]
      }
     ],
     "prompt_number": 7
    },
    {
     "cell_type": "code",
     "collapsed": false,
     "input": [
      "res = np.zeros(10000)\n",
      "for i in xrange(10000):\n",
      "    A, res[i] = update(A, 0.1, 0.5, iter=100)\n",
      "    if res[i] < 1e-12:\n",
      "        break\n",
      "A\n",
      "semilogy(res)"
     ],
     "language": "python",
     "metadata": {},
     "outputs": [
      {
       "metadata": {},
       "output_type": "pyout",
       "prompt_number": 8,
       "text": [
        "[<matplotlib.lines.Line2D at 0x7fee083de150>]"
       ]
      },
      {
       "metadata": {},
       "output_type": "display_data",
       "png": "[encoded data removed]",
       "text": [
        "<matplotlib.figure.Figure at 0x7fee20550090>"
       ]
      }
     ],
     "prompt_number": 8
    },
    {
     "cell_type": "code",
     "collapsed": false,
     "input": [
      "i"
     ],
     "language": "python",
     "metadata": {},
     "outputs": []
    },
    {
     "cell_type": "code",
     "collapsed": false,
     "input": [
      "A, res[i] = update(A, 0.1, 0.5, iter=200)"
     ],
     "language": "python",
     "metadata": {},
     "outputs": []
    },
    {
     "cell_type": "code",
     "collapsed": false,
     "input": [],
     "language": "python",
     "metadata": {},
     "outputs": []
    }
   ],
   "metadata": {}
  }
 ]
}