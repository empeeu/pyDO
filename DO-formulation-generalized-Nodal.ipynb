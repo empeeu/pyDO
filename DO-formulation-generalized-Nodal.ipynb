{
 "metadata": {
  "name": "",
  "signature": "sha256:6272eecfab9319fe41697e0b8c8b2b255371ba59f9eb1481204b3e3e2ea5b2e6"
 },
 "nbformat": 3,
 "nbformat_minor": 0,
 "worksheets": [
  {
   "cells": [
    {
     "cell_type": "heading",
     "level": 1,
     "metadata": {},
     "source": [
      "Generalized Dynamical Orthogonality"
     ]
    },
    {
     "cell_type": "markdown",
     "metadata": {},
     "source": [
      "The idea behind this derivation is to create a DO method that is not intrinsic, that is, it doesn't have to know the functional form of the equation to work. The hope is that this new formulation will be exact for equations with quadratic non-linearities, and accurate enough for general non-linearities.\n",
      "\n",
      "I followed the usual modal approach in the DO-formulation-generalized notebook. Here I'm working the nodal version. "
     ]
    },
    {
     "cell_type": "heading",
     "level": 2,
     "metadata": {},
     "source": [
      "DO Derivation"
     ]
    },
    {
     "cell_type": "code",
     "collapsed": false,
     "input": [
      "%pylab inline"
     ],
     "language": "python",
     "metadata": {},
     "outputs": [
      {
       "output_type": "stream",
       "stream": "stdout",
       "text": [
        "Populating the interactive namespace from numpy and matplotlib\n"
       ]
      }
     ],
     "prompt_number": 4
    },
    {
     "cell_type": "markdown",
     "metadata": {},
     "source": [
      "We start by performing the generalized DO formulation. \n",
      "Consider a function $\\mathbf u(x, t; \\xi)$, with a decomposition:\n",
      "$$ {\\mathbf u} = {\\mathbf u}_i (x, t) \\gamma_i (t; \\xi)$$\n",
      "where $y_0 = 1$ and $\\mathbf u_0 = \\bar \\mathbf u$ when the $\\mathbf u_i$'s are modally\n",
      "Now, let's say $u$ has the evolution equation:\n",
      "$$\\frac{d{\\mathbf u}}{dt} = \\mathcal L({\\mathbf u})$$\n",
      "and substituting the decomposition\n",
      "\\begin{align}\n",
      "\\frac{d{\\mathbf u}}{dt} &= \\mathcal L({\\mathbf u}) \\\\\n",
      "\\frac{d\\bar {\\mathbf u}}{dt} + \\gamma_i \\frac{d{\\mathbf u}_i}{dt} + {\\mathbf u}_i \\frac{d \\gamma_i}{dt} &= \\mathcal L({\\mathbf u}) \n",
      "\\end{align}\n",
      "There are a number of properties of this decomposition. For example we choose to orthonormalize the stochastic coefficients:\n",
      "\\begin{align}\n",
      "E\\left[\\gamma_i \\gamma_j \\right] = \\delta_{i\\!j}\n",
      "\\end{align}\n",
      "(Note, this is different from the original DO decomposition which choses to orthonormalize the modes, i.e. $\\langle {\\mathbf u}_i, {\\mathbf u}_j \\rangle = \\delta_{i\\!j}$.)\n",
      "\n",
      "Having made this choice, we also choose to apply the DO condition to the stochastic coefficients so that the stochastic coefficients will remain orthonormal:\n",
      "\\begin{align}\n",
      "E\\left[\\frac{d \\gamma_i}{dt} \\gamma_j \\right] = 0\n",
      "\\end{align}\n",
      "(Again, note that the original DO condition was   $\\langle \\frac{\\partial {\\mathbf u}_i}{\\partial t}, {\\mathbf u}_j \\rangle = 0$.)\n"
     ]
    },
    {
     "cell_type": "heading",
     "level": 1,
     "metadata": {},
     "source": [
      "Example: Canon"
     ]
    },
    {
     "cell_type": "markdown",
     "metadata": {},
     "source": [
      "Consider a canon of length 1m. The position of the canon can vary by degrees in either angle and with a nominal elevation angle of 45$^o$ and 0$^o$ degrees on target. The goal is to find the random end position of the canon ball. The flight of the canon ball will be determined using basic Newtonian physics (neglecting air resistance). "
     ]
    },
    {
     "cell_type": "markdown",
     "metadata": {},
     "source": [
      "The first step is to generate samples for the initial condition. "
     ]
    },
    {
     "cell_type": "code",
     "collapsed": false,
     "input": [
      "#For example, consider a canon of length 1m. The position of the canon can vary by 5 degrees in either angle\n",
      "#and with a nominal distance of 45 degrees\n",
      "#Let's make monte carlo samples of this situation for some distributions (truncated normal distribution...)\n",
      "canon_length = 1 #m\n",
      "n_mc = 10000\n",
      "theta_bar = 45\n",
      "d_theta = 5\n",
      "phi_bar = 0\n",
      "d_phi = 20\n",
      "mc_theta = np.random.randn(n_mc) * d_theta / 3\n",
      "mc_phi = np.random.randn(n_mc) * d_phi / 3\n",
      "mc_theta[np.abs(mc_theta) > d_theta] = d_theta * np.sign(mc_theta[np.abs(mc_theta) > d_theta])\n",
      "mc_phi[np.abs(mc_phi) > d_phi] = d_phi * np.sign(mc_phi[np.abs(mc_phi) > d_phi])\n",
      "mc_theta += theta_bar\n",
      "mc_phi += phi_bar\n",
      "#hist(mc_phi)\n",
      "#hist(mc_theta)\n",
      "xd = canon_length * np.cos(mc_theta / 180 * np.pi)\n",
      "z = canon_length * np.sin(mc_theta / 180 * np.pi)\n",
      "x = xd * np.cos(mc_phi / 180 * np.pi)\n",
      "y = xd * np.sin(mc_phi / 180 * np.pi)\n",
      "hist(x, 20)\n",
      "hist(y, 20)\n",
      "hist(z, 20)\n",
      "u = np.row_stack((x, y, z))"
     ],
     "language": "python",
     "metadata": {},
     "outputs": [
      {
       "metadata": {},
       "output_type": "display_data",
       "png": "[encoded data removed]",
       "text": [
        "<matplotlib.figure.Figure at 0x7f90d446d690>"
       ]
      }
     ],
     "prompt_number": 5
    },
    {
     "cell_type": "code",
     "collapsed": false,
     "input": [
      "u.shape"
     ],
     "language": "python",
     "metadata": {},
     "outputs": [
      {
       "metadata": {},
       "output_type": "pyout",
       "prompt_number": 6,
       "text": [
        "(3, 10000)"
       ]
      }
     ],
     "prompt_number": 6
    },
    {
     "cell_type": "markdown",
     "metadata": {},
     "source": [
      "The size of $\\mathbf u$ is ($d\\times n_{mc}$), where $d$ is the dimension of the problem, and $n_{mc}$ is the number of Monte-Carlo samples.\n",
      "\n",
      "The next step is to take these initial condition samples and decompose it into the DO discomposition. To do so, we follow a couple of steps. First we make find the mean:\n",
      "$$\\bar {\\mathbf u} = \\frac{1}{N}\\sum_i^N u_i $$\n",
      "Then we find the covariance matrix: \n",
      "$$C_{uu} = (\\mathbf u - \\bar {\\mathbf u})\\cdot (\\mathbf u - \\bar {\\mathbf u})^T  $$\n",
      "which is a ($d \\times d$) dimensional matrix"
     ]
    },
    {
     "cell_type": "code",
     "collapsed": false,
     "input": [
      "def eig_sort(C):\n",
      "    w, v = np.linalg.eig(C)\n",
      "    I = np.argsort(w)[::-1]\n",
      "    w = w[I]\n",
      "    v = v[:, I]\n",
      "    return w, v\n",
      "u_bar = u.mean(1)[:, None] #This is the DO mean part of the decomposition\n",
      "du = (u - u_bar)\n",
      "C_uu = np.dot(du, du.T)\n",
      "C_uu.shape"
     ],
     "language": "python",
     "metadata": {},
     "outputs": [
      {
       "metadata": {},
       "output_type": "pyout",
       "prompt_number": 7,
       "text": [
        "(3, 3)"
       ]
      }
     ],
     "prompt_number": 7
    },
    {
     "cell_type": "markdown",
     "metadata": {},
     "source": [
      "To find the $\\mathbf u_i$'s we find the eigen-value decomposition of $C_{uu}$. The $\\mathbf u_i$'s then become the eigen-vectors corresponding to the largest eigen-values.\n",
      "$$C_{uu} = V_{uu}\\Lambda_{uu} V_{uu}^{-1}$$\n",
      "$$\\mathbf u_i = V_{uu}[:, n_{DO}]$$, where $n_{DO}$ is the number of DO modes.\n",
      "\n",
      "Then, to find the stochastic coefficient, we just project the samples onto the new basis. \n",
      "$$\\gamma_i = (\\mathbf u - \\bar {\\mathbf u})^T \\cdot \\mathbf u_i$$\n",
      "The size of the $\\gamma_i$ matrix is ($n_{mc} \\times n_{DO}$)."
     ]
    },
    {
     "cell_type": "code",
     "collapsed": false,
     "input": [
      "#Now let us make the DO decomposition for the u_i's\n",
      "w, v = eig_sort(C_uu)\n",
      "n_do = 2\n",
      "u_i = v[:, :n_do]\n",
      "y_i = np.dot((du).T, u_i)\n",
      "hist(y_i[:, 0], 20)\n",
      "hist(y_i[:, 1], 20)\n",
      "y_i.shape"
     ],
     "language": "python",
     "metadata": {},
     "outputs": [
      {
       "metadata": {},
       "output_type": "pyout",
       "prompt_number": 8,
       "text": [
        "(10000, 2)"
       ]
      },
      {
       "metadata": {},
       "output_type": "display_data",
       "png": "[encoded data removed]",
       "text": [
        "<matplotlib.figure.Figure at 0x7f90d4420bd0>"
       ]
      }
     ],
     "prompt_number": 8
    },
    {
     "cell_type": "code",
     "collapsed": false,
     "input": [
      "u_i"
     ],
     "language": "python",
     "metadata": {},
     "outputs": [
      {
       "metadata": {},
       "output_type": "pyout",
       "prompt_number": 9,
       "text": [
        "array([[ 0.00365287, -0.72001227],\n",
        "       [-0.99995739, -0.00851325],\n",
        "       [-0.00847773,  0.69390911]])"
       ]
      }
     ],
     "prompt_number": 9
    },
    {
     "cell_type": "code",
     "collapsed": false,
     "input": [
      "y_i.mean(0)"
     ],
     "language": "python",
     "metadata": {},
     "outputs": [
      {
       "metadata": {},
       "output_type": "pyout",
       "prompt_number": 10,
       "text": [
        "array([  2.21836438e-18,   5.95197502e-17])"
       ]
      }
     ],
     "prompt_number": 10
    },
    {
     "cell_type": "markdown",
     "metadata": {},
     "source": [
      "Almost done. Now we have a DO-like decomposition, except that stochastic coefficent's $\\gamma_i$'s are not necessarily uncorrelated. To do this, we simply need to do a rotation. To do so, we first form the covariance matrix:\n",
      "$$C_{\\gamma\\gamma} = \\gamma^T \\cdot \\gamma / (n_{mc} - 1)$$\n",
      "which has a shape of ($n_{DO} \\times n_{DO}$)"
     ]
    },
    {
     "cell_type": "code",
     "collapsed": false,
     "input": [
      "#This gives us the original DO decomposition, but we actually want orthonormal coefficients. Now let's rotate so that the\n",
      "#coefficients are orthonormal\n",
      "C = np.dot(y_i.T, y_i) / (n_mc - 1)\n",
      "C.shape"
     ],
     "language": "python",
     "metadata": {},
     "outputs": [
      {
       "metadata": {},
       "output_type": "pyout",
       "prompt_number": 11,
       "text": [
        "(2, 2)"
       ]
      }
     ],
     "prompt_number": 11
    },
    {
     "cell_type": "markdown",
     "metadata": {},
     "source": [
      "Again we do an eigen-value decomposition. \n",
      "$$C_{\\gamma\\gamma} = V_{\\gamma\\gamma}\\Lambda_{\\gamma\\gamma} V_{\\gamma\\gamma}^{-1}$$\n",
      "which has a size of ($n_{DO} \\times n_{DO}$). \n",
      "Now, we want to do the rotation such that we don't actually change the representation of the samples. So, recall that $V_{\\gamma\\gamma} V_{\\gamma\\gamma}^{-1} = \\mathbf I$, and because $C_{\\gamma\\gamma}$ is symmetric positive definite, $V_{\\gamma\\gamma}^{-1} = V_{\\gamma\\gamma}^T$ . First, we want:\n",
      "$$\\gamma_O^T \\cdot \\gamma_O = I$$\n",
      "So the strategy is basically to make the covariance matrix the identity, and group terms appropriately. To do that we post and pre-multiply by parts of the eigen-decomposition. \n",
      "$$(\\sqrt{\\Lambda^{-1}} V_{\\gamma\\gamma}^T \\gamma^T \\frac{1}{\\sqrt{n_{mc}-1}}) (\\gamma V_{\\gamma\\gamma} \\frac{1}{\\sqrt{n_{mc}-1}} \\sqrt{\\Lambda^{-1}})  = \\sqrt{\\Lambda^{-1}} V_{\\gamma\\gamma}^T C_{\\gamma\\gamma} V_{\\gamma\\gamma} \\sqrt{\\Lambda^{-1}} $$\n",
      "$$\\sqrt{\\Lambda^{-1}} V_{\\gamma\\gamma}^T V_{\\gamma\\gamma}\\Lambda_{\\gamma\\gamma} V_{\\gamma\\gamma}^{-1} V_{\\gamma\\gamma} \\sqrt{\\Lambda^{-1}} =  \\mathbf I$$\n",
      "As such we have that\n",
      "$$\\gamma_O = \\gamma V_{\\gamma\\gamma} \\sqrt{\\Lambda^{-1}}\\frac{1}{\\sqrt{n_{mc}-1}}$$"
     ]
    },
    {
     "cell_type": "code",
     "collapsed": false,
     "input": [
      "w, v = eig_sort(C)\n",
      "yo_i = np.dot(y_i, v) / np.sqrt(w) / np.sqrt(n_mc - 1)\n",
      "np.dot(yo_i.T, yo_i)"
     ],
     "language": "python",
     "metadata": {},
     "outputs": [
      {
       "metadata": {},
       "output_type": "pyout",
       "prompt_number": 12,
       "text": [
        "array([[  1.00000000e+00,   3.68628739e-18],\n",
        "       [  3.68628739e-18,   1.00000000e+00]])"
       ]
      }
     ],
     "prompt_number": 12
    },
    {
     "cell_type": "markdown",
     "metadata": {},
     "source": [
      "But, we weren't supposed to change the DO decomposition. So, we need to modify the $\\mathbf u_i$ as well. Consider:\n",
      "$$\\mathbf u \\approx \\bar {\\mathbf u} + \\mathbf u \\cdot \\gamma^T$$\n",
      "$$\\mathbf u \\approx \\bar {\\mathbf u} + \\mathbf u_{o} \\cdot \\gamma_o^T$$\n",
      "$$\\mathbf u \\approx \\bar {\\mathbf u} + \\mathbf u_{o} \\cdot (\\gamma V_{\\gamma\\gamma} \\sqrt{\\Lambda^{-1}}\\frac{1}{\\sqrt{n_{mc}-1}})^T$$\n",
      "$$\\mathbf u \\approx \\bar {\\mathbf u} + \\mathbf u_{o} \\cdot  \\frac{1}{\\sqrt{n_{mc}-1}}\\sqrt{\\Lambda^{-1}} V_{\\gamma\\gamma}^T \\gamma^T$$\n",
      "$$\\mathbf u \\approx \\bar {\\mathbf u} + \\mathbf u V_{\\gamma\\gamma}^T \\sqrt{\\Lambda}{\\sqrt{n_{mc}-1}}  \\frac{1}{\\sqrt{n_{mc}-1}}\\sqrt{\\Lambda^{-1}} V_{\\gamma\\gamma}^T \\gamma^T$$\n",
      "$$\\mathbf u \\approx \\bar {\\mathbf u} + \\mathbf u \\mathbf I \\gamma^T$$\n",
      "Hence:\n",
      "$$\\mathbf u_{o} = \\mathbf u V_{\\gamma\\gamma}^T \\sqrt{\\Lambda}{\\sqrt{n_{mc}-1}}$$"
     ]
    },
    {
     "cell_type": "code",
     "collapsed": false,
     "input": [
      "uo_i = np.dot(u_i, v) * np.sqrt(w) * np.sqrt(n_mc -1)\n",
      "u1 = u_bar + np.dot(u_i, y_i.T)\n",
      "u2 = u_bar + np.dot(uo_i, yo_i.T)\n",
      "np.abs(u1 - u2).sum()"
     ],
     "language": "python",
     "metadata": {},
     "outputs": [
      {
       "metadata": {},
       "output_type": "pyout",
       "prompt_number": 13,
       "text": [
        "6.7435423564687902e-14"
       ]
      }
     ],
     "prompt_number": 13
    },
    {
     "cell_type": "heading",
     "level": 1,
     "metadata": {},
     "source": [
      "Derivation of evolution equations"
     ]
    },
    {
     "cell_type": "markdown",
     "metadata": {},
     "source": [
      "To solve for the mean, take the expectation:\n",
      "\\begin{align}\n",
      "E\\left[\\frac{d\\bar u}{dt} + y_i \\frac{du_i}{dt} + u_i \\frac{d y_i}{dt} \\right] &= E\\left[\\mathcal L(u) \\right] \\\\\n",
      "E\\left[\\frac{d\\bar u}{dt}\\right] &= E\\left[\\mathcal L(u) \\right]\n",
      "\\end{align}"
     ]
    },
    {
     "cell_type": "markdown",
     "metadata": {},
     "source": [
      "To solve for the deterministic bases, multiply by $y_j$ and take the expectation (i.e. the stochastic inner product):\n",
      "\\begin{align}\n",
      "E\\left[\\left(\\frac{d\\bar u}{dt} + y_i \\frac{du_i}{dt} + u_i \\frac{d y_i}{dt} \\right)y_j \\right] &= E\\left[\\mathcal L(u)y_j \\right ] \\\\\n",
      "E\\left[\\frac{d\\bar u}{dt}y_j \\right] + E\\left[y_i y_j \\right] \\frac{du_i}{dt} + u_i E\\left[\\frac{d y_i}{dt} y_j \\right] &= E\\left[\\mathcal L(u) y_j\\right] \\\\\n",
      "E\\left[y_i y_j \\right] \\frac{du_i}{dt} &= E\\left[\\mathcal L(u) y_j\\right] \\\\\n",
      "\\end{align}\n",
      "where we have used to the DO condition. \n",
      "Now multiply by the inverse covariance matrix $E^{-1}\\left[y_k y_j \\right]$\n",
      "\\begin{align}\n",
      "E^{-1}\\left[y_k y_j \\right]E\\left[y_i y_j \\right] \\frac{du_i}{dt} &= E^{-1}\\left[y_k y_j \\right] E\\left[\\mathcal L(u) y_j\\right] \\\\\n",
      "\\delta_{ik} \\frac{du_i}{dt} &= E^{-1}\\left[y_k y_j \\right] E\\left[\\mathcal L(u) y_j\\right] \\\\\n",
      "\\frac{du_i}{dt} &= E^{-1}\\left[y_i y_j \\right] E\\left[\\mathcal L(u) y_j\\right] \\\\\n",
      "\\frac{du_i}{dt} &= E\\left[\\mathcal L(u) y_i\\right]\n",
      "\\end{align}"
     ]
    },
    {
     "cell_type": "markdown",
     "metadata": {},
     "source": [
      "To solve for the stochastic coefficients, multiply by $u_j$ and integrate over the domain (i.e. take the spatial inner product):\n",
      "\\begin{align}\n",
      "\\left<\\frac{d\\bar u}{dt} + y_i \\frac{du_i}{dt} + u_i \\frac{d y_i}{dt}, u_j \\right> &= \\left<\\mathcal L(u), u_j \\right> \\\\\n",
      "\\left<\\frac{d\\bar u}{dt}, u_j \\right> + y_i \\left<\\frac{du_i}{dt} , u_j \\right> + \\left<u_i, u_j \\right> \\frac{d y_i}{dt} &= \\left<\\mathcal L(u), u_j \\right> \\\\\n",
      " \\left<u_i, u_j \\right> \\frac{d y_i}{dt} &= \\left<\\mathcal L(u), u_j \\right> - \\left<\\frac{d\\bar u}{dt}, u_j \\right> - y_i \\left<\\frac{du_i}{dt} , u_j \\right> \\\\\n",
      "\\end{align}\n",
      "Multiply this by the inverse mass-matrix:\n",
      "\\begin{align}\n",
      "\\left<u_k, u_j \\right>^{-1} \\left<u_i, u_j \\right> \\frac{d y_i}{dt} &= \\left<u_k, u_j \\right>^{-1} \\left<\\mathcal L(u), u_j \\right> - \\left<u_k, u_j \\right>^{-1} \\left<\\frac{d\\bar u}{dt} + y_i \\frac{du_i}{dt}, u_j \\right> \\\\\n",
      "\\delta_{ki} \\frac{d y_i}{dt} &= \\left<u_k, u_j \\right>^{-1} \\left<\\mathcal L(u), u_j \\right> - \\left<u_k, u_j \\right>^{-1} \\left<\\frac{d\\bar u}{dt} + y_i \\frac{du_i}{dt}, u_j \\right> \\\\\n",
      "\\delta_{ki} \\frac{d y_i}{dt} &= \\left<u_k, u_j \\right>^{-1} \\left<\\mathcal L(u) - E\\left[\\mathcal L(u) \\right] -  E\\left[\\mathcal L(u) y_i\\right] y_i, u_j \\right>  \\\\\n",
      "\\frac{d y_i}{dt} &= \\left<u_i, u_j \\right>^{-1} \\left<\\mathcal L(u) - E\\left[\\mathcal L(u) \\right] -  E\\left[\\mathcal L(u) y_k\\right] y_k, u_j \\right> \n",
      "\\end{align}\n",
      "\n"
     ]
    },
    {
     "cell_type": "markdown",
     "metadata": {},
     "source": [
      "Before I get caught up in the derivation, the basic idea is that we're trying to approximate the various operations on $\\mathcal L(u)$, and we want to do it so that it is exact for a quadratic function. The way to do it is to minimize the error (analytically) between the true function and its approximation, and then to figure out how to approximate the function. Something similar to the Kalman filter derivation. Here, though, we are trying to figure out the nodal points to use for the function, which is a little tricky. An easier route will probably be a Taylor series expansion for $\\mathcal L(u)$. "
     ]
    },
    {
     "cell_type": "markdown",
     "metadata": {},
     "source": [
      "Very well, so the goal now is to efficiently calculate the following for an arbitrary function:\n",
      "\\begin{align}\n",
      "E\\left[\\mathcal L(u) \\right] \\\\\n",
      "E\\left[\\mathcal L(u) y_i\\right] y_i \\\\\n",
      "\\left<\\mathcal L(u), u_j \\right> \n",
      "\\end{align}\n",
      "Substitute the decomposition\n",
      "\\begin{align}\n",
      "E\\left[\\mathcal L(\\bar u + u_k y_k) \\right] \\\\\n",
      "E\\left[\\mathcal L(\\bar u + u_k y_k) y_i\\right] y_i \\\\\n",
      "\\left<\\mathcal L(\\bar u + u_k y_k), u_j \\right> \n",
      "\\end{align}"
     ]
    },
    {
     "cell_type": "heading",
     "level": 2,
     "metadata": {},
     "source": [
      "Nodal decomposition"
     ]
    },
    {
     "cell_type": "markdown",
     "metadata": {},
     "source": [
      "I always seem to re-realize this after looking/struggling with this for a while, but for what I'm trying to do I actually have to pull the mean into the modes by letting $y_0 = 1$. Every time I do this I end up erasing everything I did, start over, then forget why, so in this iteration I will keep what is above. \n",
      "\n",
      "Making a new notebook for the nodal version of this: See DO-formulation-generalized-nodal"
     ]
    }
   ],
   "metadata": {}
  }
 ]
}