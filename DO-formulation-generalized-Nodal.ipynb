{
 "metadata": {
  "name": "",
  "signature": "sha256:3c8fd0d3bfe43bf51b9f91f4fab8976f34099f9cfe17e7db69803db1e390aabc"
 },
 "nbformat": 3,
 "nbformat_minor": 0,
 "worksheets": [
  {
   "cells": [
    {
     "cell_type": "heading",
     "level": 1,
     "metadata": {},
     "source": [
      "Generalized Dynamical Orthogonality"
     ]
    },
    {
     "cell_type": "markdown",
     "metadata": {},
     "source": [
      "The idea behind this derivation is to create a DO method that is not intrinsic, that is, it doesn't have to know the functional form of the equation to work. The hope is that this new formulation will be exact for equations with quadratic non-linearities, and accurate enough for general non-linearities.\n",
      "\n",
      "I followed the usual modal approach in the DO-formulation-generalized notebook. Here I'm working the nodal version. "
     ]
    },
    {
     "cell_type": "heading",
     "level": 2,
     "metadata": {},
     "source": [
      "DO Derivation"
     ]
    },
    {
     "cell_type": "code",
     "collapsed": false,
     "input": [
      "%pylab inline"
     ],
     "language": "python",
     "metadata": {},
     "outputs": [
      {
       "output_type": "stream",
       "stream": "stdout",
       "text": [
        "Populating the interactive namespace from numpy and matplotlib\n"
       ]
      }
     ],
     "prompt_number": 1
    },
    {
     "cell_type": "markdown",
     "metadata": {},
     "source": [
      "We start by performing the generalized DO formulation. \n",
      "Consider a function $\\mathbf u(x, t; \\xi)$, with a decomposition:\n",
      "$$ {\\mathbf u} = {\\mathbf u}_i (x, t) \\gamma_i (t; \\xi)$$\n",
      "where $y_0 = 1$ and $\\mathbf u_0 = \\bar {\\mathbf u}$ when the $\\mathbf u_i$'s are modally decomposed.\n",
      "Now, let's say $\\mathbf u$ has the evolution equation:\n",
      "$$\\frac{d{\\mathbf u}}{dt} = \\mathcal L({\\mathbf u})$$\n",
      "and substituting the decomposition\n",
      "\\begin{align}\n",
      "\\frac{d{\\mathbf u}}{dt} &= \\mathcal L({\\mathbf u}) \\\\\n",
      "\\gamma_i \\frac{d{\\mathbf u}_i}{dt} + {\\mathbf u}_i \\frac{d \\gamma_i}{dt} &= \\mathcal L({\\mathbf u}) \n",
      "\\end{align}\n",
      "There are a number of properties of this decomposition. For example we choose to orthonormalize the stochastic coefficients:\n",
      "\\begin{align}\n",
      "E\\left[\\gamma_i \\gamma_j \\right] = \\delta_{i\\!j}\n",
      "\\end{align}\n",
      "(Note, this is different from the original DO decomposition which choses to orthonormalize the modes, i.e. $\\langle {\\mathbf u}_i, {\\mathbf u}_j \\rangle = \\delta_{i\\!j}$.)\n",
      "\n",
      "Having made this choice, we also choose to apply the DO condition to the stochastic coefficients so that the stochastic coefficients will remain orthonormal:\n",
      "\\begin{align}\n",
      "E\\left[\\frac{d \\gamma_i}{dt} \\gamma_j \\right] = 0\n",
      "\\end{align}\n",
      "(Again, note that the original DO condition was   $\\langle \\frac{\\partial {\\mathbf u}_i}{\\partial t}, {\\mathbf u}_j \\rangle = 0$.)\n"
     ]
    },
    {
     "cell_type": "heading",
     "level": 1,
     "metadata": {},
     "source": [
      "Example: Canon"
     ]
    },
    {
     "cell_type": "markdown",
     "metadata": {},
     "source": [
      "Consider a canon of length 1m. The position of the canon can vary by degrees in either angle and with a nominal elevation angle of 45$^o$ and 0$^o$ degrees on target. The goal is to find the random end position of the canon ball. The flight of the canon ball will be determined using basic Newtonian physics (neglecting air resistance). "
     ]
    },
    {
     "cell_type": "markdown",
     "metadata": {},
     "source": [
      "The first step is to generate samples for the initial condition. "
     ]
    },
    {
     "cell_type": "code",
     "collapsed": false,
     "input": [
      "#For example, consider a canon of length 1m. The position of the canon can vary by 5 degrees in either angle\n",
      "#and with a nominal distance of 45 degrees\n",
      "#Let's make monte carlo samples of this situation for some distributions (truncated normal distribution...)\n",
      "canon_length = 1 #m\n",
      "n_mc = 10000\n",
      "theta_bar = 45\n",
      "d_theta = 5\n",
      "phi_bar = 0\n",
      "d_phi = 20\n",
      "mc_theta = np.random.randn(n_mc) * d_theta / 3\n",
      "mc_phi = np.random.randn(n_mc) * d_phi / 3\n",
      "mc_theta[np.abs(mc_theta) > d_theta] = d_theta * np.sign(mc_theta[np.abs(mc_theta) > d_theta])\n",
      "mc_phi[np.abs(mc_phi) > d_phi] = d_phi * np.sign(mc_phi[np.abs(mc_phi) > d_phi])\n",
      "mc_theta += theta_bar\n",
      "mc_phi += phi_bar\n",
      "#hist(mc_phi)\n",
      "#hist(mc_theta)\n",
      "xd = canon_length * np.cos(mc_theta / 180 * np.pi)\n",
      "z = canon_length * np.sin(mc_theta / 180 * np.pi)\n",
      "x = xd * np.cos(mc_phi / 180 * np.pi)\n",
      "y = xd * np.sin(mc_phi / 180 * np.pi)\n",
      "hist(x, 20)\n",
      "hist(y, 20)\n",
      "hist(z, 20)\n",
      "u = np.row_stack((x, y, z))"
     ],
     "language": "python",
     "metadata": {},
     "outputs": [
      {
       "metadata": {},
       "output_type": "display_data",
       "png": "[encoded data removed]",
       "text": [
        "<matplotlib.figure.Figure at 0x7fb936bc9150>"
       ]
      }
     ],
     "prompt_number": 2
    },
    {
     "cell_type": "code",
     "collapsed": false,
     "input": [
      "u.shape"
     ],
     "language": "python",
     "metadata": {},
     "outputs": [
      {
       "metadata": {},
       "output_type": "pyout",
       "prompt_number": 3,
       "text": [
        "(3, 10000)"
       ]
      }
     ],
     "prompt_number": 3
    },
    {
     "cell_type": "markdown",
     "metadata": {},
     "source": [
      "The size of $\\mathbf u$ is ($d\\times n_{mc}$), where $d$ is the dimension of the problem, and $n_{mc}$ is the number of Monte-Carlo samples.\n",
      "\n",
      "The next step is to take these initial condition samples and decompose it into the DO discomposition. To do so, we follow a couple of steps. First we make find the mean:\n",
      "$$\\bar {\\mathbf u} = \\frac{1}{N}\\sum_i^N u_i $$\n",
      "Then we find the covariance matrix: \n",
      "$$C_{uu} = \\mathbf u\\cdot \\mathbf u^T  $$\n",
      "which is a ($d \\times d$) dimensional matrix"
     ]
    },
    {
     "cell_type": "code",
     "collapsed": false,
     "input": [
      "def eig_sort(C):\n",
      "    w, v = np.linalg.eig(C)\n",
      "    I = np.argsort(w)[::-1]\n",
      "    w = w[I]\n",
      "    v = v[:, I]\n",
      "    return w, v\n",
      "C_uu = np.dot(u, u.T)\n",
      "C_uu.shape"
     ],
     "language": "python",
     "metadata": {},
     "outputs": [
      {
       "metadata": {},
       "output_type": "pyout",
       "prompt_number": 4,
       "text": [
        "(3, 3)"
       ]
      }
     ],
     "prompt_number": 4
    },
    {
     "cell_type": "markdown",
     "metadata": {},
     "source": [
      "To find the $\\mathbf u_i$'s we find the eigen-value decomposition of $C_{uu}$. The $\\mathbf u_i$'s then become the eigen-vectors corresponding to the largest eigen-values.\n",
      "$$C_{uu} = V_{uu}\\Lambda_{uu} V_{uu}^{-1}$$\n",
      "$$\\mathbf u_i = V_{uu}[:, n_{DO}]$$, where $n_{DO}$ is the number of DO modes.\n",
      "\n",
      "Then, to find the stochastic coefficient, we just project the samples onto the new basis. \n",
      "$$\\gamma_i = (\\mathbf u - \\bar {\\mathbf u})^T \\cdot \\mathbf u_i$$\n",
      "The size of the $\\gamma_i$ matrix is ($n_{mc} \\times n_{DO}$)."
     ]
    },
    {
     "cell_type": "code",
     "collapsed": false,
     "input": [
      "#Now let us make the DO decomposition for the u_i's\n",
      "w, v = eig_sort(C_uu)\n",
      "n_do = 2 #If we do 3, then we will capture the whole space\n",
      "u_i = v[:, :n_do]\n",
      "y_i = np.dot((u).T, u_i)\n",
      "for i in xrange(n_do):\n",
      "    hist(y_i[:, i], 20)\n",
      "y_i.shape"
     ],
     "language": "python",
     "metadata": {},
     "outputs": [
      {
       "metadata": {},
       "output_type": "pyout",
       "prompt_number": 5,
       "text": [
        "(10000, 2)"
       ]
      },
      {
       "metadata": {},
       "output_type": "display_data",
       "png": "[encoded data removed]",
       "text": [
        "<matplotlib.figure.Figure at 0x7fb936b550d0>"
       ]
      }
     ],
     "prompt_number": 5
    },
    {
     "cell_type": "code",
     "collapsed": false,
     "input": [
      "u_i"
     ],
     "language": "python",
     "metadata": {},
     "outputs": [
      {
       "metadata": {},
       "output_type": "pyout",
       "prompt_number": 6,
       "text": [
        "array([[  7.04627964e-01,  -2.45025361e-03],\n",
        "       [  5.29546988e-04,  -9.99991944e-01],\n",
        "       [  7.09576742e-01,   3.17944459e-03]])"
       ]
      }
     ],
     "prompt_number": 6
    },
    {
     "cell_type": "code",
     "collapsed": false,
     "input": [
      "y_i.mean(0)"
     ],
     "language": "python",
     "metadata": {},
     "outputs": [
      {
       "metadata": {},
       "output_type": "pyout",
       "prompt_number": 7,
       "text": [
        "array([  9.96207390e-01,  -6.98374437e-06])"
       ]
      }
     ],
     "prompt_number": 7
    },
    {
     "cell_type": "markdown",
     "metadata": {},
     "source": [
      "Almost done. Now we have a DO-like decomposition, except that stochastic coefficent's $\\gamma_i$'s are not necessarily uncorrelated. To do this, we simply need to do a rotation. To do so, we first form the covariance matrix:\n",
      "$$C_{\\gamma\\gamma} = \\gamma^T \\cdot \\gamma / (n_{mc} - 1) [1]~~$$\n",
      "which has a shape of ($n_{DO} \\times n_{DO}$)"
     ]
    },
    {
     "cell_type": "code",
     "collapsed": false,
     "input": [
      "#This gives us the original DO decomposition, but we actually want orthonormal coefficients. Now let's rotate so that the\n",
      "#coefficients are orthonormal\n",
      "C = np.dot(y_i.T, y_i) / (n_mc - 1)\n",
      "C.shape"
     ],
     "language": "python",
     "metadata": {},
     "outputs": [
      {
       "metadata": {},
       "output_type": "pyout",
       "prompt_number": 8,
       "text": [
        "(2, 2)"
       ]
      }
     ],
     "prompt_number": 8
    },
    {
     "cell_type": "markdown",
     "metadata": {},
     "source": [
      "Again we do an eigen-value decomposition. \n",
      "$$C_{\\gamma\\gamma} = V_{\\gamma\\gamma}\\Lambda_{\\gamma\\gamma} V_{\\gamma\\gamma}^{-1}$$ \n",
      "which has a size of ($n_{DO} \\times n_{DO}$). \n",
      "Now, we want to do the rotation such that we don't actually change the representation of the samples. So, recall that $V_{\\gamma\\gamma} V_{\\gamma\\gamma}^{-1} = \\mathbf I$, and because $C_{\\gamma\\gamma}$ is symmetric positive definite, $V_{\\gamma\\gamma}^{-1} = V_{\\gamma\\gamma}^T$ . First, we want:\n",
      "$$\\frac{1}{n_{mc} - 1} \\gamma_O^T \\cdot \\gamma_O = I$$\n",
      "$$ \\gamma_O^T \\cdot \\gamma_O = I (n_{mc} - 1)$$\n",
      "So the strategy is basically to make the covariance matrix the identity, and group terms appropriately. To do that we post and pre-multiply [1] by parts of the eigen-decomposition. \n",
      "$$(\\sqrt{\\Lambda^{-1}} V_{\\gamma\\gamma}^T \\gamma^T) (\\gamma V_{\\gamma\\gamma} \\sqrt{\\Lambda^{-1}}) \\frac{1}{{n_{mc}-1}} = \\sqrt{\\Lambda^{-1}} V_{\\gamma\\gamma}^T C_{\\gamma\\gamma} V_{\\gamma\\gamma} \\sqrt{\\Lambda^{-1}} $$\n",
      "\n",
      "If we expand for $C_{\\gamma\\gamma}$ on the right-hand-side we get:\n",
      "\n",
      "$$ (\\gamma V_{\\gamma\\gamma} \\sqrt{\\Lambda^{-1}})^T (\\gamma V_{\\gamma\\gamma} \\sqrt{\\Lambda^{-1}}) \\frac{1}{{n_{mc}-1}} = \\sqrt{\\Lambda^{-1}} V_{\\gamma\\gamma}^T V_{\\gamma\\gamma}\\Lambda_{\\gamma\\gamma} V_{\\gamma\\gamma}^{-1} V_{\\gamma\\gamma} \\sqrt{\\Lambda^{-1}} =  \\mathbf I (n_{mc} - 1)$$\n",
      "As such we have that\n",
      "$$\\gamma_O = \\gamma V_{\\gamma\\gamma} \\sqrt{\\Lambda^{-1}}$$"
     ]
    },
    {
     "cell_type": "code",
     "collapsed": false,
     "input": [
      "w, v = eig_sort(C)\n",
      "yo_i = np.dot(y_i, v) / np.sqrt(w)\n",
      "np.dot(yo_i.T, yo_i) / (n_mc - 1)"
     ],
     "language": "python",
     "metadata": {},
     "outputs": [
      {
       "metadata": {},
       "output_type": "pyout",
       "prompt_number": 9,
       "text": [
        "array([[  1.00000000e+00,  -4.26368278e-18],\n",
        "       [ -4.26368278e-18,   1.00000000e+00]])"
       ]
      }
     ],
     "prompt_number": 9
    },
    {
     "cell_type": "markdown",
     "metadata": {},
     "source": [
      "But, we weren't supposed to change the DO decomposition. So, we need to modify the $\\mathbf u_i$ as well. Consider:\n",
      "$$\\mathbf u \\approx \\bar {\\mathbf u} + \\mathbf u \\cdot \\gamma^T$$\n",
      "$$\\mathbf u \\approx \\bar {\\mathbf u} + \\mathbf u_{o} \\cdot \\gamma_o^T$$\n",
      "$$\\mathbf u \\approx \\bar {\\mathbf u} + \\mathbf u_{o} \\cdot (\\gamma V_{\\gamma\\gamma} \\sqrt{\\Lambda^{-1}})^T$$\n",
      "$$\\mathbf u \\approx \\bar {\\mathbf u} + \\mathbf u_{o} \\cdot  \\sqrt{\\Lambda^{-1}} V_{\\gamma\\gamma}^T \\gamma^T$$\n",
      "$$\\mathbf u \\approx \\bar {\\mathbf u} + \\mathbf u V_{\\gamma\\gamma}^T \\sqrt{\\Lambda} \\sqrt{\\Lambda^{-1}} V_{\\gamma\\gamma}^T \\gamma^T$$\n",
      "$$\\mathbf u \\approx \\bar {\\mathbf u} + \\mathbf u \\mathbf I \\gamma^T$$\n",
      "Hence:\n",
      "$$\\mathbf u_{o} = \\mathbf u V_{\\gamma\\gamma}^T \\sqrt{\\Lambda}$$"
     ]
    },
    {
     "cell_type": "code",
     "collapsed": false,
     "input": [
      "uo_i = np.dot(u_i, v) * np.sqrt(w) \n",
      "u1 = np.dot(u_i, y_i.T)\n",
      "u2 = np.dot(uo_i, yo_i.T)\n",
      "np.abs(u1 - u2).sum()"
     ],
     "language": "python",
     "metadata": {},
     "outputs": [
      {
       "metadata": {},
       "output_type": "pyout",
       "prompt_number": 10,
       "text": [
        "8.9901951985313366e-13"
       ]
      }
     ],
     "prompt_number": 10
    },
    {
     "cell_type": "heading",
     "level": 1,
     "metadata": {},
     "source": [
      "Derivation of evolution equations"
     ]
    },
    {
     "cell_type": "markdown",
     "metadata": {},
     "source": [
      "To solve for the deterministic bases, multiply by $\\gamma_j$ (you might consider multiplying by $\\gamma_j - E[\\gamma_j]$, but that will set one equation to $0=0$, which would be a problem) and take the expectation (i.e. the stochastic inner product):\n",
      "\\begin{align}\n",
      "E\\left[\\left(\\gamma_i \\frac{d\\mathbf u_i}{dt} + \\mathbf u_i \\frac{d \\gamma_i}{dt} \\right)\\gamma_j \\right] &= E\\left[\\mathcal L(\\mathbf u)\\gamma_j \\right ] \\\\\n",
      "E\\left[\\gamma_i \\gamma_j \\right] \\frac{d\\mathbf u_i}{dt} + \\mathbf u_i E\\left[\\frac{d \\gamma_i}{dt} \\gamma_j \\right] &= E\\left[\\mathcal L(\\mathbf u) \\gamma_j\\right] \\\\\n",
      "E\\left[\\gamma_i \\gamma_j \\right] \\frac{d\\mathbf u_i}{dt} &= E\\left[\\mathcal L(\\mathbf u) \\gamma_j\\right] \\\\\n",
      "\\end{align}\n",
      "where we have used to the DO condition. \n",
      "Now multiply by the inverse covariance matrix $E^{-1}\\left[\\gamma_k \\gamma_j \\right]$\n",
      "\\begin{align}\n",
      "E^{-1}\\left[\\gamma_k \\gamma_j \\right]E\\left[\\gamma_i \\gamma_j \\right] \\frac{d\\mathbf u_i}{dt} &= E^{-1}\\left[\\gamma_k \\gamma_j \\right] E\\left[\\mathcal L(\\mathbf u) \\gamma_j\\right] \\\\\n",
      "\\delta_{ik} \\frac{d\\mathbf u_i}{dt} &= E^{-1}\\left[\\gamma_k \\gamma_j \\right] E\\left[\\mathcal L(\\mathbf u) \\gamma_j\\right] \\\\\n",
      "\\frac{d\\mathbf u_i}{dt} &= \\delta_{i\\!j} E\\left[\\mathcal L(\\mathbf u) \\gamma_j\\right] \\\\\n",
      "\\frac{d\\mathbf u_i}{dt} &= E\\left[\\mathcal L(\\mathbf u) \\gamma_i\\right]\n",
      "\\end{align}"
     ]
    },
    {
     "cell_type": "markdown",
     "metadata": {},
     "source": [
      "To solve for the stochastic coefficients, multiply by $u_j$ and integrate over the domain (i.e. take the spatial inner product):\n",
      "\\begin{align}\n",
      "\\left<\\gamma_i \\frac{d\\mathbf u_i}{dt} + \\mathbf u_i \\frac{d \\gamma_i}{dt}, \\mathbf u_j \\right> &= \\left<\\mathcal L(\\mathbf u), \\mathbf u_j \\right> \\\\\n",
      "\\gamma_i \\left<\\frac{d\\mathbf u_i}{dt} , \\mathbf u_j \\right> + \\left<\\mathbf u_i, \\mathbf u_j \\right> \\frac{d \\gamma_i}{dt} &= \\left<\\mathcal L(\\mathbf u), \\mathbf u_j \\right> \\\\\n",
      " \\left<\\mathbf u_i, \\mathbf u_j \\right> \\frac{d \\gamma_i}{dt} &= \\left<\\mathcal L(\\mathbf u), \\mathbf u_j \\right> - \\gamma_i \\left<\\frac{d\\mathbf u_i}{dt} , \\mathbf u_j \\right> \\\\\n",
      "\\end{align}\n",
      "Multiply this by the inverse mass-matrix:\n",
      "\\begin{align}\n",
      "\\left<\\mathbf u_k, \\mathbf u_j \\right>^{-1} \\left<\\mathbf u_i, \\mathbf u_j \\right> \\frac{d \\gamma_i}{dt} &= \\left<\\mathbf u_k, \\mathbf u_j \\right>^{-1} \\left<\\mathcal L(\\mathbf u), \\mathbf u_j \\right> - \\left<\\mathbf u_k, \\mathbf u_j \\right>^{-1}  \\\\\n",
      "\\delta_{ki} \\frac{d \\gamma_i}{dt} &= \\left<\\mathbf u_k, \\mathbf u_j \\right>^{-1} \\left<\\mathcal L(\\mathbf u), \\mathbf u_j \\right> - \\left<\\mathbf u_k, \\mathbf u_j \\right>^{-1} \\left< \\gamma_i \\frac{d\\mathbf u_i}{dt}, \\mathbf u_j \\right> \\\\\n",
      "\\delta_{ki} \\frac{d \\gamma_i}{dt} &= \\left<\\mathbf u_k, \\mathbf u_j \\right>^{-1} \\left<\\mathcal L(\\mathbf u) -  E\\left[\\mathcal L(\\mathbf u) y_i\\right] \\gamma_i, \\mathbf u_j \\right>  \\\\\n",
      "\\frac{d \\gamma_i}{dt} &= \\left<\\mathbf u_i, \\mathbf u_j \\right>^{-1} \\left<\\mathcal L(\\mathbf u) -  E\\left[\\mathcal L(\\mathbf u) \\gamma_k\\right] \\gamma_k, \\mathbf u_j \\right> \n",
      "\\end{align}\n",
      "\n"
     ]
    },
    {
     "cell_type": "markdown",
     "metadata": {},
     "source": [
      "Before I get caught up in the derivation, the basic idea is that we're trying to approximate the various operations on $\\mathcal L(\\mathbf u)$, and we want to do it so that it is exact for a quadratic function. The way to do it is to minimize the error (analytically) between the true function and its approximation, and then to figure out how to approximate the function. Something similar to the Kalman filter derivation. Here, though, we are trying to figure out the nodal points to use for the function, which is a little tricky. An easier route will probably be a Taylor series expansion for $\\mathcal L(\\mathbf u)$. "
     ]
    },
    {
     "cell_type": "markdown",
     "metadata": {},
     "source": [
      "Very well, so the goal now is to efficiently calculate the following for an arbitrary function:\n",
      "\\begin{align}\n",
      "E\\left[\\mathcal L(\\mathbf u) \\gamma_i\\right] \\\\\n",
      "\\left<\\mathcal L(\\mathbf u), \\mathbf u_j \\right> \n",
      "\\end{align}\n",
      "Substitute the decomposition\n",
      "\\begin{align}\n",
      "E\\left[\\mathcal L(\\mathbf u_k \\gamma_k) \\gamma_i\\right]\\\\\n",
      "\\left<\\mathcal L(\\mathbf u_k \\gamma_k), \\mathbf u_j \\right> \n",
      "\\end{align}"
     ]
    },
    {
     "cell_type": "heading",
     "level": 2,
     "metadata": {},
     "source": [
      "Nodal decomposition"
     ]
    },
    {
     "cell_type": "markdown",
     "metadata": {},
     "source": [
      "Now, the relationship between a modal and a nodal basis is as follows:\n",
      "$$ \\mathbf u \\approx \\sum_i \\mathbf u^M_i(\\mathbf x, t) \\gamma^M_i (t; \\xi) = \\sum_i \\mathbf u_i(\\mathbf x, t) \\gamma_i (t; \\xi) $$\n",
      "where $E\\left[\\gamma^M_j \\gamma^M_i\\right] = \\delta_{i\\!j}$ for the modal basis, and $\\gamma_i(t; \\xi_j) = \\delta_{i\\!j}$, where $\\xi_j$ is a particular realization of the random variable.\n",
      "\n",
      "So, for $n_{DO}$ of the $\\gamma_i$'s, we can find corresponding bases $\\mathbf u_i$, such that the Nodal basis property is satisfied . (This can be more actually, but we'll get to that...). So, when we have those modes we can express the remainder of the realizations as above, but the remaining $\\gamma_i(t; \\xi_l)$ for $l$ not in $0 .. n_{DO}$. This is similar to finite elements where in $u_i \\theta_i(x_j) == u_i \\delta_{i\\!j}$ but $\\theta_i(x) \\neq [1, 0]$ in general.\n",
      "\n",
      "The nodal has the nice property that we can make and interpolating approximation:\n",
      "\\begin{align}\n",
      "E\\left[\\mathcal L\\left(\\mathbf u_k(\\mathbf x, t) \\gamma_k(t ; \\xi)\\right) \\gamma_i(t; \\xi)\\right] \n",
      "&\\approx E\\left[\\mathcal L\\left(\\mathbf u_k(\\mathbf x, t)\\right) \\gamma_k(t ; \\xi) \\gamma_i(t; \\xi)\\right] \\\\\n",
      "&= \\mathcal L\\left(\\mathbf u_k(\\mathbf x, t)\\right) E\\left[\\gamma_k(t ; \\xi) \\gamma_i(t; \\xi)\\right] \\\\\n",
      "&= \\mathcal L\\left(\\mathbf u_k \\right) E\\left[\\gamma_k \\gamma_i\\right] \n",
      "\\end{align}"
     ]
    },
    {
     "cell_type": "markdown",
     "metadata": {},
     "source": [
      "Similarly:\n",
      "\\begin{align}\n",
      "\\left<\\mathcal L(\\mathbf u_k \\gamma_k), \\mathbf u_j \\right>  \n",
      "&\\approx \\left<\\mathcal L(\\mathbf u_k) \\gamma_k, \\mathbf u_j \\right>  \\\\\n",
      "&= \\left<\\mathcal L(\\mathbf u_k), \\mathbf u_j \\right> \\gamma_k\n",
      "\\end{align}"
     ]
    },
    {
     "cell_type": "heading",
     "level": 2,
     "metadata": {},
     "source": [
      "Finding the nodes/realizations to reduce the error"
     ]
    },
    {
     "cell_type": "markdown",
     "metadata": {},
     "source": [
      "Let's take the mean squared error and minimize it with respect to $\\xi$:\n",
      "\\begin{align}\n",
      "\\varepsilon &= E\\left[\\mathcal L\\left(\\mathbf u_k(\\mathbf x, t) \\gamma_k(t ; \\xi)\\right) \\gamma_i(t; \\xi)\\right] \n",
      "- E\\left[\\mathcal L\\left(\\mathbf u_k(\\mathbf x, t)\\right) \\gamma_k(t ; \\xi) \\gamma_i(t; \\xi)\\right]  \\\\\n",
      "&= E\\left[\\left\\{\\mathcal L\\left(\\mathbf u_k(\\mathbf x, t) \\gamma_k(t ; \\xi)\\right)  - \\mathcal L\\left(\\mathbf u_k(\\mathbf x, t)\\right) \\gamma_k(t ; \\xi) \\right\\} \\gamma_i(t; \\xi) \\right] \n",
      "\\end{align} \n",
      "Square the error\n",
      "\\begin{align}\n",
      "\\varepsilon^2 \n",
      "&= E\\left[\\left(\\left\\{\\mathcal L\\left(\\mathbf u_k \\gamma_k(t ; \\xi)\\right)  - \\mathcal L\\left(\\mathbf u_k\\right) \\gamma_k(t ; \\xi) \\right\\} \\gamma_i(t; \\xi) \\right)^2\\right] \n",
      "\\end{align} \n",
      "Take the derivative with respect to $\\xi_m$ and set it equal to zero (to minimize the function)\n",
      "\\begin{align}\n",
      "\\frac{\\partial}{\\partial \\xi_m}E\\left[\\left(\\left\\{\\mathcal L\\left(\\mathbf u_k \\gamma_k(t ; \\xi)\\right)  - \\mathcal L\\left(\\mathbf u_k\\right) \\gamma_k(t ; \\xi) \\right\\} \\gamma_i(t; \\xi) \\right)^2\\right]  &= 0\\\\\n",
      "\\frac{\\partial}{\\partial \\xi_m}E\\left[\\left(\\left\\{\\mathcal L\\left(\\mathbf u\\right)  - \\mathcal L\\left(\\mathbf u_k\\right) \\gamma_k \\right\\} \\gamma_i \\right)^2\\right]  &= 0\\\\\n",
      "\\end{align} "
     ]
    },
    {
     "cell_type": "markdown",
     "metadata": {},
     "source": [
      "Now let's write the expection as an integral:\n",
      "\\begin{align}\n",
      "\\frac{\\partial}{\\partial \\xi_m}\\int_{-\\infty}^\\infty\\left[\\left(\\left\\{\\mathcal L\\left(\\mathbf u\\right)  - \\mathcal L\\left(\\mathbf u_k\\right) \\gamma_k \\right\\} \\gamma_i \\right)^2 f(\\vec \\xi) d\\vec\\xi \\right]  &= 0\n",
      "\\end{align} \n",
      "where $f(\\vec \\xi)$ is the join pdf of all the $\\xi$'s that are a part of the integrand. For example, if $\\mathcal L$ is a linear functional, then \n",
      "\\begin{align}\n",
      "\\frac{\\partial}{\\partial \\xi_m}\\int_{-\\infty}^\\infty\\int_{-\\infty}^\\infty\\left[\\left(\\left\\{\\mathcal L\\left(\\mathbf u\\right)  - \\mathcal L\\left(\\mathbf u_k\\right) \\gamma_k \\right\\} \\gamma_i \\right)^2 f(\\xi_i, \\xi_k) d\\xi_i d\\xi_k \\right]  &= 0\n",
      "\\end{align} "
     ]
    },
    {
     "cell_type": "markdown",
     "metadata": {},
     "source": [
      "Because the limits on the integral are not a function of $\\xi_m$, we can take the derivative inside the integral (Leibnitz). This gives us three terms:\n",
      "\\begin{align}\n",
      "0 &= \\int_{-\\infty}^\\infty \\frac{\\partial}{\\partial \\xi_m}\\left[\\left(\\left\\{\\mathcal L\\left(\\mathbf u\\right)  - \\mathcal L\\left(\\mathbf u_k\\right) \\gamma_k \\right\\} \\gamma_i \\right)^2 f(\\vec \\xi) d\\vec\\xi \\right]  \\\\\n",
      "&= \\int_{-\\infty}^\\infty \\left[2\\left(\\left\\{\\mathcal L\\left(\\mathbf u\\right)  - \\mathcal L\\left(\\mathbf u_k\\right) \\gamma_k \\right\\} \\gamma_i \\right) \n",
      "\\frac{\\partial}{\\partial \\xi_m} \\left(\\left\\{\\mathcal L\\left(\\mathbf u\\right)  - \\mathcal L\\left(\\mathbf u_k\\right) \\gamma_k \\right\\} \\gamma_i \\right) f(\\vec \\xi) d\\vec\\xi \\right]  \\\\\n",
      "&+ \\int_{-\\infty}^\\infty \\left[\\left(\\left\\{\\mathcal L\\left(\\mathbf u\\right)  - \\mathcal L\\left(\\mathbf u_k\\right) \\gamma_k \\right\\} \\gamma_i \\right)^2 \\frac{\\partial f(\\vec \\xi)}{\\partial \\xi_m}  d\\vec\\xi \\right]  \n",
      "\\end{align} \n"
     ]
    },
    {
     "cell_type": "markdown",
     "metadata": {},
     "source": [
      "Taking the derivative through the braces on the middle line above"
     ]
    },
    {
     "cell_type": "markdown",
     "metadata": {},
     "source": [
      "\\begin{align}\n",
      "0 &= \\int_{-\\infty}^\\infty \\left[\n",
      "2\\left(\\left\\{\\mathcal L\\left(\\mathbf u\\right)  - \\mathcal L\\left(\\mathbf u_k\\right) \\gamma_k \\right\\} \\gamma_i \\right) \n",
      "\\left(\\left\\{ \\frac{\\partial}{\\partial \\xi_m} \\mathcal L\\left(\\mathbf u\\right)  \n",
      "- \\mathcal L\\left(\\mathbf u_k\\right) \\frac{\\partial \\gamma_k}{\\partial \\xi_m} \\right\\} \\gamma_i \\right) f(\\vec \\xi) d\\vec\\xi \n",
      "\\right]  \\\\\n",
      "&+ \\int_{-\\infty}^\\infty \\left[\n",
      "2\\left(\\left\\{\\mathcal L\\left(\\mathbf u\\right)  - \\mathcal L\\left(\\mathbf u_k\\right) \\gamma_k \\right\\} \\gamma_i \\right) \n",
      "\\left(\\left\\{ \\mathcal L\\left(\\mathbf u\\right)  - \\mathcal L\\left(\\mathbf u_k\\right) \\gamma_k \\right\\} \\frac{\\partial \\gamma_i}{\\partial \\xi_m} \\right) f(\\vec \\xi) d\\vec\\xi \n",
      "\\right]  \\\\\n",
      "&+ \\int_{-\\infty}^\\infty \\left[\\left(\\left\\{\\mathcal L\\left(\\mathbf u\\right)  - \\mathcal L\\left(\\mathbf u_k\\right) \\gamma_k \\right\\} \\gamma_i \\right)^2 \\frac{\\partial f(\\vec \\xi)}{\\partial \\xi_m}  d\\vec\\xi \\right]  \n",
      "\\end{align} \n"
     ]
    },
    {
     "cell_type": "markdown",
     "metadata": {},
     "source": [
      "Just collecting terms"
     ]
    },
    {
     "cell_type": "markdown",
     "metadata": {},
     "source": [
      "\\begin{align}\n",
      "0 &= \\int_{-\\infty}^\\infty \\left[\n",
      "2\\left(\\mathcal L\\left(\\mathbf u\\right)  - \\mathcal L\\left(\\mathbf u_k\\right) \\gamma_k \\right) \n",
      "\\left(\\frac{\\partial}{\\partial \\xi_m} \\mathcal L\\left(\\mathbf u\\right)\n",
      "- \\mathcal L\\left(\\mathbf u_k\\right) \\frac{\\partial \\gamma_k}{\\partial \\xi_m} \\right) \\gamma_i^2 f(\\vec \\xi) d\\vec\\xi \n",
      "\\right]  \\\\\n",
      "&+ \\int_{-\\infty}^\\infty \\left[\n",
      "\\left(\\mathcal L\\left(\\mathbf u\\right)  - \\mathcal L\\left(\\mathbf u_k\\right) \\gamma_k \\right)^2 \n",
      "2\\gamma_i\\frac{\\partial \\gamma_i}{\\partial \\xi_m} f(\\vec \\xi) d\\vec\\xi \n",
      "\\right]  \\\\\n",
      "&+ \\int_{-\\infty}^\\infty \\left[\\left(\\mathcal L\\left(\\mathbf u\\right)  - \\mathcal L\\left(\\mathbf u_k\\right) \\gamma_k \\right)^2 \\gamma_i^2 \\frac{\\partial f(\\vec \\xi)}{\\partial \\xi_m}  d\\vec\\xi \\right]  \n",
      "\\end{align} \n"
     ]
    },
    {
     "cell_type": "markdown",
     "metadata": {},
     "source": [
      "We can drop one of the terms because it is common among the terms. We drop $\\mathcal L\\left(\\mathbf u\\right)  - \\mathcal L\\left(\\mathbf u_k\\right)\\gamma_k$. This term essentially says that if the approximation is perfect, the error is already minimized."
     ]
    },
    {
     "cell_type": "markdown",
     "metadata": {},
     "source": [
      "\\begin{align}\n",
      "0 &= \\int_{-\\infty}^\\infty \\left[\n",
      "2\\left(\\frac{\\partial}{\\partial \\xi_m} \\mathcal L\\left(\\mathbf u\\right)  \n",
      "- \\mathcal L\\left(\\mathbf u_k\\right) \\frac{\\partial \\gamma_k}{\\partial \\xi_m} \\right) \\gamma_i^2 f(\\vec \\xi) d\\vec\\xi \n",
      "\\right]  \\\\\n",
      "&+ \\int_{-\\infty}^\\infty \\left[\n",
      "\\left(\\mathcal L\\left(\\mathbf u\\right)  - \\mathcal L\\left(\\mathbf u_k\\right) \\gamma_k \\right)\n",
      "2\\gamma_i\\frac{\\partial \\gamma_i}{\\partial \\xi_m} f(\\vec \\xi) d\\vec\\xi \n",
      "\\right]  \\\\\n",
      "&+ \\int_{-\\infty}^\\infty \\left[\\left(\\mathcal L\\left(\\mathbf u\\right)  - \\mathcal L\\left(\\mathbf u_k\\right) \\gamma_k \\right)\n",
      "\\gamma_i^2 \\frac{\\partial f(\\vec \\xi)}{\\partial \\xi_m}  d\\vec\\xi \\right]  \n",
      "\\end{align} \n"
     ]
    },
    {
     "cell_type": "markdown",
     "metadata": {},
     "source": [
      "Expand the derivatives on the first term"
     ]
    },
    {
     "cell_type": "markdown",
     "metadata": {},
     "source": [
      "\\begin{align}\n",
      "0 &= \\int_{-\\infty}^\\infty \\left[\n",
      "2\\left(\\frac{\\partial \\mathcal L\\left(\\mathbf u\\right)}{\\partial \\mathbf u_l} \\frac{\\partial \\mathbf u_l \\gamma_l}{\\partial \\xi_m}  - \\mathcal L\\left(\\mathbf u_k\\right) \\frac{\\partial \\gamma_k}{\\partial \\xi_m} \\right) \\gamma_i^2 f(\\vec \\xi) d\\vec\\xi \n",
      "\\right]  \\\\\n",
      "&+ \\int_{-\\infty}^\\infty \\left[\n",
      "\\left(\\mathcal L\\left(\\mathbf u\\right)  - \\mathcal L\\left(\\mathbf u_k\\right) \\gamma_k \\right)\n",
      "2\\gamma_i\\frac{\\partial \\gamma_i}{\\partial \\xi_m} f(\\vec \\xi) d\\vec\\xi \n",
      "\\right]  \\\\\n",
      "&+ \\int_{-\\infty}^\\infty \\left[\\left(\\mathcal L\\left(\\mathbf u\\right)  - \\mathcal L\\left(\\mathbf u_k\\right) \\gamma_k \\right)\n",
      "\\gamma_i^2 \\frac{\\partial f(\\vec \\xi)}{\\partial \\xi_m}  d\\vec\\xi \\right]  \n",
      "\\end{align} \n"
     ]
    },
    {
     "cell_type": "markdown",
     "metadata": {},
     "source": [
      "\\begin{align}\n",
      "0 &= \\int_{-\\infty}^\\infty \\left[\n",
      "2\\left(\\frac{\\partial \\mathcal L\\left(\\mathbf u\\right)}{\\partial \\mathbf u_l}\\mathbf u_l \\frac{\\partial  \\gamma_l}{\\partial \\xi_m}  - \\mathcal L\\left(\\mathbf u_k\\right) \\frac{\\partial \\gamma_k}{\\partial \\xi_m} \\right) \\gamma_i^2 f(\\vec \\xi) d\\vec\\xi \n",
      "\\right]  \\\\\n",
      "&+ \\int_{-\\infty}^\\infty \\left[\n",
      "\\left(\\mathcal L\\left(\\mathbf u\\right)  - \\mathcal L\\left(\\mathbf u_k\\right) \\gamma_k \\right)\n",
      "2\\gamma_i\\frac{\\partial \\gamma_i}{\\partial \\xi_m} f(\\vec \\xi) d\\vec\\xi \n",
      "\\right]  \\\\\n",
      "&+ \\int_{-\\infty}^\\infty \\left[\\left(\\mathcal L\\left(\\mathbf u\\right)  - \\mathcal L\\left(\\mathbf u_k\\right) \\gamma_k \\right)\n",
      "\\gamma_i^2 \\frac{\\partial f(\\vec \\xi)}{\\partial \\xi_m}  d\\vec\\xi \\right]  \n",
      "\\end{align} \n"
     ]
    },
    {
     "cell_type": "markdown",
     "metadata": {},
     "source": [
      "At this point I'm planning to deal with the partials. I think I made a mistake, I should have just taken the derivative wrt $\\gamma_m$. Let's pretend I did that and continue. Also, I think the pdf should be for the RV $\\gamma$"
     ]
    },
    {
     "cell_type": "markdown",
     "metadata": {},
     "source": [
      "\\begin{align}\n",
      "0 &= \\int_{-\\infty}^\\infty \\left[\n",
      "2\\left(\\frac{\\partial \\mathcal L\\left(\\mathbf u\\right)}{\\partial \\mathbf u_l}\\mathbf u_l \\delta_{lm}  - \\mathcal L\\left(\\mathbf u_k\\right) \\delta_{km} \\right) \\gamma_i^2 f(\\vec \\xi) d\\vec\\xi \n",
      "\\right]  \\\\\n",
      "&+ \\int_{-\\infty}^\\infty \\left[\n",
      "\\left(\\mathcal L\\left(\\mathbf u\\right)  - \\mathcal L\\left(\\mathbf u_k\\right) \\gamma_k \\right)\n",
      "2\\gamma_i\\delta_{im} f(\\vec \\xi) d\\vec\\xi \n",
      "\\right]  \\\\\n",
      "&+ \\int_{-\\infty}^\\infty \\left[\\left(\\mathcal L\\left(\\mathbf u\\right)  - \\mathcal L\\left(\\mathbf u_k\\right) \\gamma_k \\right)\n",
      "\\gamma_i^2 \\frac{\\partial f(\\vec \\xi)}{\\partial \\xi_m}  d\\vec\\xi \\right]  \n",
      "\\end{align} \n"
     ]
    },
    {
     "cell_type": "markdown",
     "metadata": {},
     "source": [
      "\\begin{align}\n",
      "0 &= 2\\left(\\frac{\\partial \\mathcal L\\left(\\mathbf u\\right)}{\\partial \\mathbf u_m}\\mathbf u_m - \\mathcal L\\left(\\mathbf u_m\\right) \\right) \\int_{-\\infty}^\\infty \\left[ \\gamma_i^2 f(\\vec \\xi) d\\vec\\xi \\right]  \\\\\n",
      "&+ \\mathcal L\\left(\\mathbf u\\right) \\int_{-\\infty}^\\infty \\left[\n",
      "2\\gamma_m f(\\vec \\xi) d\\vec\\xi \n",
      "\\right] - \\mathcal L\\left(\\mathbf u_k\\right)  \\int_{-\\infty}^\\infty \\left[\\gamma_k 2\\gamma_m f(\\vec \\xi) d\\vec\\xi \\right]  \\\\\n",
      "&+ \\mathcal L\\left(\\mathbf u\\right) \\int_{-\\infty}^\\infty \\left[\n",
      "\\gamma_i^2 \\frac{\\partial f(\\vec \\xi)}{\\partial \\xi_m}  d\\vec\\xi \\right] \n",
      "- \\mathcal L\\left(\\mathbf u_k\\right) \\int_{-\\infty}^\\infty \\left[ \\gamma_k\n",
      "\\gamma_i^2 \\frac{\\partial f(\\vec \\xi)}{\\partial \\xi_m}  d\\vec\\xi \\right] \n",
      "\\end{align} \n"
     ]
    },
    {
     "cell_type": "markdown",
     "metadata": {},
     "source": [
      "Honestly... I'm stuck. I don't see a way forward that's helpful. I'm trying to find a value for $\\gamma_m$, and I don't see it coming out of this mess..."
     ]
    },
    {
     "cell_type": "markdown",
     "metadata": {},
     "source": [
      "Maybe I'm going at this too hard... perhaps I should forget about the full operators (I was initially thinking they would help). Let's try minimizing the square error between the operator and its interpolant."
     ]
    },
    {
     "cell_type": "markdown",
     "metadata": {},
     "source": [
      "\\begin{align}\n",
      "\\mathcal E &= \\left(\\mathcal L\\left(\\mathbf u_k \\gamma_k\\right)  - \\mathcal L\\left(\\mathbf u_k\\right)\\gamma_k \\right)\\\\\n",
      "\\mathcal E^2 &= \\left(\\mathcal L\\left(\\mathbf u_k \\gamma_k\\right)  - \\mathcal L\\left(\\mathbf u_k\\right)\\gamma_k \\right)^2 \\\\\n",
      "\\frac{\\partial \\mathcal E^2}{\\partial \\gamma_m} &= \\frac{\\partial}{\\partial \\gamma_m} \\left(\\mathcal L\\left(\\mathbf u_k \\gamma_k \\right)  \n",
      "- \\mathcal L\\left(\\mathbf u_k\\right)\\gamma_k \\right)^2 \\\\\n",
      "\\end{align}"
     ]
    },
    {
     "cell_type": "markdown",
     "metadata": {},
     "source": [
      "\\begin{align}\n",
      "0 &= 2 \\left(\\mathcal L\\left(\\mathbf u_k \\gamma_k \\right)  \n",
      "- \\mathcal L\\left(\\mathbf u_k\\right)\\gamma_k \\right) \\frac{\\partial}{\\partial \\gamma_m} \\left(\\mathcal L\\left(\\mathbf u_k \\gamma_k \\right)  \n",
      "- \\mathcal L\\left(\\mathbf u_k\\right)\\gamma_k \\right) \\\\\n",
      "0 &= 2 \\left(\\mathcal L\\left(\\mathbf u_k \\gamma_k \\right)  \n",
      "- \\mathcal L\\left(\\mathbf u_k\\right)\\gamma_k \\right) \\left(\\frac{\\partial}{\\partial \\gamma_m} \\mathcal L\\left(\\mathbf u_k \\gamma_k \\right)  \n",
      "- \\mathcal L\\left(\\mathbf u_k\\right)\\frac{\\partial \\gamma_k}{\\partial \\gamma_m}  \\right) \\\\\n",
      "0 &= 2 \\left(\\mathcal L\\left(\\mathbf u_k \\gamma_k \\right)  \n",
      "- \\mathcal L\\left(\\mathbf u_k\\right)\\gamma_k \\right) \\left(\\frac{\\partial \\mathcal L\\left(\\mathbf u_k \\gamma_k \\right)}{\\partial (\\mathbf u \\gamma)_i}  \\frac{\\partial \\mathbf u_i \\gamma_i}{\\partial \\gamma_m}  \n",
      "- \\mathcal L\\left(\\mathbf u_k\\right)\\frac{\\partial \\gamma_k}{\\partial \\gamma_m}  \\right) \\\\\n",
      "0 &= 2 \\left(\\mathcal L\\left(\\mathbf u_k \\gamma_k \\right)  \n",
      "- \\mathcal L\\left(\\mathbf u_k\\right)\\gamma_k \\right) \\left(\\frac{\\partial \\mathcal L\\left(\\mathbf u_k \\gamma_k \\right)}{\\partial (\\mathbf u \\gamma)_i} \\mathbf u_i \\frac{\\partial \\gamma_i}{\\partial \\gamma_m}  \n",
      "- \\mathcal L\\left(\\mathbf u_k\\right)\\frac{\\partial \\gamma_k}{\\partial \\gamma_m}  \\right) \\\\\n",
      "0 &= 2 \\left(\\mathcal L\\left(\\mathbf u_k \\gamma_k \\right)  \n",
      "- \\mathcal L\\left(\\mathbf u_k\\right)\\gamma_k \\right) \\left(\\frac{\\partial \\mathcal L\\left(\\mathbf u_k \\gamma_k \\right)}{\\partial (\\mathbf u \\gamma)_i} \\mathbf u_i \\frac{\\partial \\gamma_i}{\\partial \\gamma_m}  \n",
      "- \\mathcal L\\left(\\mathbf u_k\\right)\\frac{\\partial \\gamma_k}{\\partial \\gamma_m}  \\right) \\\\\n",
      "\\end{align}"
     ]
    },
    {
     "cell_type": "markdown",
     "metadata": {},
     "source": [
      "We can drop the first term because if the interpolation is perfect, it will be zero, but then I don't have to solve any of this."
     ]
    },
    {
     "cell_type": "markdown",
     "metadata": {},
     "source": [
      "\\begin{align}\n",
      "0 &= \\left(\\frac{\\partial \\mathcal L\\left(\\mathbf u_k \\gamma_k \\right)}{\\partial (\\mathbf u \\gamma)_i} \\mathbf u_i \\frac{\\partial \\gamma_i}{\\partial \\gamma_m}  \n",
      "- \\mathcal L\\left(\\mathbf u_i\\right)\\frac{\\partial \\gamma_i}{\\partial \\gamma_m}  \\right) \\\\\n",
      "0 &= \\left(\\frac{\\partial \\mathcal L\\left(\\mathbf u_k \\gamma_k \\right)}{\\partial (\\mathbf u \\gamma)_i} \\mathbf u_i \n",
      "- \\mathcal L\\left(\\mathbf u_i\\right) \\right) \\frac{\\partial \\gamma_i}{\\partial \\gamma_m}  \\\\\n",
      "\\end{align}"
     ]
    },
    {
     "cell_type": "markdown",
     "metadata": {},
     "source": [
      "Again, drop the last term because we can do nothing with it."
     ]
    },
    {
     "cell_type": "markdown",
     "metadata": {},
     "source": [
      "\\begin{align}\n",
      "0 &= \\frac{\\partial \\mathcal L\\left(\\mathbf u_k \\gamma_k \\right)}{\\partial (\\mathbf u \\gamma)_i} \\mathbf u_i \n",
      "- \\mathcal L\\left(\\mathbf u_i\\right)  \\\\\n",
      "\\frac{\\partial \\mathcal L\\left(\\mathbf u_k \\gamma_k \\right)}{\\partial (\\mathbf u \\gamma)_i} \\mathbf u_i &= \\mathcal L\\left(\\mathbf u_i\\right)  \\\\\n",
      "\\mathbf u_i &= \\frac{\\mathcal L\\left(\\mathbf u_i\\right)}{\\frac{\\partial \\mathcal L\\left(\\mathbf u_k \\gamma_k \\right)}{\\partial (\\mathbf u \\gamma)_i}}  \n",
      "\\end{align}"
     ]
    },
    {
     "cell_type": "markdown",
     "metadata": {},
     "source": [
      "This is a iterative relationship to solve for $\\mathbf u_i$? Let's try it out.\n",
      "\n",
      "Consider $\\mathcal L(\\mathbf u) = \\sin(u)$"
     ]
    },
    {
     "cell_type": "markdown",
     "metadata": {},
     "source": [
      "\\begin{align}\n",
      "u_i &= \\frac{\\sin(u_i)}{\\cos(u_k \\gamma_k)\\gamma_i} \\\\\n",
      "u_i\\gamma_i &= \\frac{\\sin(u_i)}{\\cos(u_k \\gamma_k)}\n",
      "\\end{align}"
     ]
    },
    {
     "cell_type": "markdown",
     "metadata": {},
     "source": [
      "Okay, this makes no sense."
     ]
    },
    {
     "cell_type": "code",
     "collapsed": false,
     "input": [],
     "language": "python",
     "metadata": {},
     "outputs": []
    }
   ],
   "metadata": {}
  }
 ]
}